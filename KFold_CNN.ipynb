{
 "cells": [
  {
   "cell_type": "code",
   "execution_count": 1,
   "id": "eeee1b58",
   "metadata": {},
   "outputs": [],
   "source": [
    "%matplotlib inline\n",
    "import matplotlib\n",
    "import matplotlib.pyplot as plt\n",
    "import pandas as pd\n",
    "import numpy as np\n",
    "import seaborn as sns\n",
    "import sklearn \n",
    "import imblearn"
   ]
  },
  {
   "cell_type": "code",
   "execution_count": 2,
   "id": "d4193efe",
   "metadata": {},
   "outputs": [],
   "source": [
    "import warnings\n",
    "warnings.filterwarnings('ignore')"
   ]
  },
  {
   "cell_type": "code",
   "execution_count": 3,
   "id": "773c0019",
   "metadata": {},
   "outputs": [
    {
     "data": {
      "text/html": [
       "<div>\n",
       "<style scoped>\n",
       "    .dataframe tbody tr th:only-of-type {\n",
       "        vertical-align: middle;\n",
       "    }\n",
       "\n",
       "    .dataframe tbody tr th {\n",
       "        vertical-align: top;\n",
       "    }\n",
       "\n",
       "    .dataframe thead th {\n",
       "        text-align: right;\n",
       "    }\n",
       "</style>\n",
       "<table border=\"1\" class=\"dataframe\">\n",
       "  <thead>\n",
       "    <tr style=\"text-align: right;\">\n",
       "      <th></th>\n",
       "      <th>Time</th>\n",
       "      <th>V1</th>\n",
       "      <th>V2</th>\n",
       "      <th>V3</th>\n",
       "      <th>V4</th>\n",
       "      <th>V5</th>\n",
       "      <th>V6</th>\n",
       "      <th>V7</th>\n",
       "      <th>V8</th>\n",
       "      <th>V9</th>\n",
       "      <th>...</th>\n",
       "      <th>V21</th>\n",
       "      <th>V22</th>\n",
       "      <th>V23</th>\n",
       "      <th>V24</th>\n",
       "      <th>V25</th>\n",
       "      <th>V26</th>\n",
       "      <th>V27</th>\n",
       "      <th>V28</th>\n",
       "      <th>Amount</th>\n",
       "      <th>Class</th>\n",
       "    </tr>\n",
       "  </thead>\n",
       "  <tbody>\n",
       "    <tr>\n",
       "      <th>0</th>\n",
       "      <td>0.0</td>\n",
       "      <td>-1.359807</td>\n",
       "      <td>-0.072781</td>\n",
       "      <td>2.536347</td>\n",
       "      <td>1.378155</td>\n",
       "      <td>-0.338321</td>\n",
       "      <td>0.462388</td>\n",
       "      <td>0.239599</td>\n",
       "      <td>0.098698</td>\n",
       "      <td>0.363787</td>\n",
       "      <td>...</td>\n",
       "      <td>-0.018307</td>\n",
       "      <td>0.277838</td>\n",
       "      <td>-0.110474</td>\n",
       "      <td>0.066928</td>\n",
       "      <td>0.128539</td>\n",
       "      <td>-0.189115</td>\n",
       "      <td>0.133558</td>\n",
       "      <td>-0.021053</td>\n",
       "      <td>149.62</td>\n",
       "      <td>0</td>\n",
       "    </tr>\n",
       "    <tr>\n",
       "      <th>1</th>\n",
       "      <td>0.0</td>\n",
       "      <td>1.191857</td>\n",
       "      <td>0.266151</td>\n",
       "      <td>0.166480</td>\n",
       "      <td>0.448154</td>\n",
       "      <td>0.060018</td>\n",
       "      <td>-0.082361</td>\n",
       "      <td>-0.078803</td>\n",
       "      <td>0.085102</td>\n",
       "      <td>-0.255425</td>\n",
       "      <td>...</td>\n",
       "      <td>-0.225775</td>\n",
       "      <td>-0.638672</td>\n",
       "      <td>0.101288</td>\n",
       "      <td>-0.339846</td>\n",
       "      <td>0.167170</td>\n",
       "      <td>0.125895</td>\n",
       "      <td>-0.008983</td>\n",
       "      <td>0.014724</td>\n",
       "      <td>2.69</td>\n",
       "      <td>0</td>\n",
       "    </tr>\n",
       "    <tr>\n",
       "      <th>2</th>\n",
       "      <td>1.0</td>\n",
       "      <td>-1.358354</td>\n",
       "      <td>-1.340163</td>\n",
       "      <td>1.773209</td>\n",
       "      <td>0.379780</td>\n",
       "      <td>-0.503198</td>\n",
       "      <td>1.800499</td>\n",
       "      <td>0.791461</td>\n",
       "      <td>0.247676</td>\n",
       "      <td>-1.514654</td>\n",
       "      <td>...</td>\n",
       "      <td>0.247998</td>\n",
       "      <td>0.771679</td>\n",
       "      <td>0.909412</td>\n",
       "      <td>-0.689281</td>\n",
       "      <td>-0.327642</td>\n",
       "      <td>-0.139097</td>\n",
       "      <td>-0.055353</td>\n",
       "      <td>-0.059752</td>\n",
       "      <td>378.66</td>\n",
       "      <td>0</td>\n",
       "    </tr>\n",
       "    <tr>\n",
       "      <th>3</th>\n",
       "      <td>1.0</td>\n",
       "      <td>-0.966272</td>\n",
       "      <td>-0.185226</td>\n",
       "      <td>1.792993</td>\n",
       "      <td>-0.863291</td>\n",
       "      <td>-0.010309</td>\n",
       "      <td>1.247203</td>\n",
       "      <td>0.237609</td>\n",
       "      <td>0.377436</td>\n",
       "      <td>-1.387024</td>\n",
       "      <td>...</td>\n",
       "      <td>-0.108300</td>\n",
       "      <td>0.005274</td>\n",
       "      <td>-0.190321</td>\n",
       "      <td>-1.175575</td>\n",
       "      <td>0.647376</td>\n",
       "      <td>-0.221929</td>\n",
       "      <td>0.062723</td>\n",
       "      <td>0.061458</td>\n",
       "      <td>123.50</td>\n",
       "      <td>0</td>\n",
       "    </tr>\n",
       "    <tr>\n",
       "      <th>4</th>\n",
       "      <td>2.0</td>\n",
       "      <td>-1.158233</td>\n",
       "      <td>0.877737</td>\n",
       "      <td>1.548718</td>\n",
       "      <td>0.403034</td>\n",
       "      <td>-0.407193</td>\n",
       "      <td>0.095921</td>\n",
       "      <td>0.592941</td>\n",
       "      <td>-0.270533</td>\n",
       "      <td>0.817739</td>\n",
       "      <td>...</td>\n",
       "      <td>-0.009431</td>\n",
       "      <td>0.798278</td>\n",
       "      <td>-0.137458</td>\n",
       "      <td>0.141267</td>\n",
       "      <td>-0.206010</td>\n",
       "      <td>0.502292</td>\n",
       "      <td>0.219422</td>\n",
       "      <td>0.215153</td>\n",
       "      <td>69.99</td>\n",
       "      <td>0</td>\n",
       "    </tr>\n",
       "  </tbody>\n",
       "</table>\n",
       "<p>5 rows × 31 columns</p>\n",
       "</div>"
      ],
      "text/plain": [
       "   Time        V1        V2        V3        V4        V5        V6        V7  \\\n",
       "0   0.0 -1.359807 -0.072781  2.536347  1.378155 -0.338321  0.462388  0.239599   \n",
       "1   0.0  1.191857  0.266151  0.166480  0.448154  0.060018 -0.082361 -0.078803   \n",
       "2   1.0 -1.358354 -1.340163  1.773209  0.379780 -0.503198  1.800499  0.791461   \n",
       "3   1.0 -0.966272 -0.185226  1.792993 -0.863291 -0.010309  1.247203  0.237609   \n",
       "4   2.0 -1.158233  0.877737  1.548718  0.403034 -0.407193  0.095921  0.592941   \n",
       "\n",
       "         V8        V9  ...       V21       V22       V23       V24       V25  \\\n",
       "0  0.098698  0.363787  ... -0.018307  0.277838 -0.110474  0.066928  0.128539   \n",
       "1  0.085102 -0.255425  ... -0.225775 -0.638672  0.101288 -0.339846  0.167170   \n",
       "2  0.247676 -1.514654  ...  0.247998  0.771679  0.909412 -0.689281 -0.327642   \n",
       "3  0.377436 -1.387024  ... -0.108300  0.005274 -0.190321 -1.175575  0.647376   \n",
       "4 -0.270533  0.817739  ... -0.009431  0.798278 -0.137458  0.141267 -0.206010   \n",
       "\n",
       "        V26       V27       V28  Amount  Class  \n",
       "0 -0.189115  0.133558 -0.021053  149.62      0  \n",
       "1  0.125895 -0.008983  0.014724    2.69      0  \n",
       "2 -0.139097 -0.055353 -0.059752  378.66      0  \n",
       "3 -0.221929  0.062723  0.061458  123.50      0  \n",
       "4  0.502292  0.219422  0.215153   69.99      0  \n",
       "\n",
       "[5 rows x 31 columns]"
      ]
     },
     "execution_count": 3,
     "metadata": {},
     "output_type": "execute_result"
    }
   ],
   "source": [
    "fraud_detection = pd.read_csv('creditcard.csv')\n",
    "fraud_detection.head()"
   ]
  },
  {
   "cell_type": "code",
   "execution_count": 4,
   "id": "6571b81a",
   "metadata": {},
   "outputs": [],
   "source": [
    "from sklearn.model_selection import StratifiedShuffleSplit\n",
    "from sklearn.preprocessing import StandardScaler"
   ]
  },
  {
   "cell_type": "code",
   "execution_count": 5,
   "id": "bb71a0c1",
   "metadata": {},
   "outputs": [],
   "source": [
    "from keras.models import Sequential\n",
    "from keras.layers import Conv1D, BatchNormalization, Dropout, MaxPooling1D, Flatten, Dense\n",
    "from sklearn.model_selection import KFold\n",
    "\n",
    "#dividindo os dados em features e labels\n",
    "X = fraud_detection.drop(\"Class\", axis=1)\n",
    "y = fraud_detection[\"Class\"]\n",
    "\n",
    "#padronizando os dados\n",
    "scaler = StandardScaler()\n",
    "X = scaler.fit_transform(X)\n"
   ]
  },
  {
   "cell_type": "code",
   "execution_count": 6,
   "id": "b062258e",
   "metadata": {},
   "outputs": [
    {
     "name": "stdout",
     "output_type": "stream",
     "text": [
      "1781/1781 [==============================] - 1s 699us/step - loss: 0.0026 - accuracy: 0.9994\n",
      "1781/1781 [==============================] - 1s 721us/step - loss: 0.0035 - accuracy: 0.9994\n",
      "1781/1781 [==============================] - 1s 717us/step - loss: 0.0029 - accuracy: 0.9993\n",
      "1781/1781 [==============================] - 1s 714us/step - loss: 0.0033 - accuracy: 0.9994\n",
      "1781/1781 [==============================] - 1s 710us/step - loss: 0.0026 - accuracy: 0.9994\n",
      "Accuracy: 99.94% (+/- 0.00%)\n"
     ]
    }
   ],
   "source": [
    "def create_classificador():\n",
    "    classificador = Sequential()\n",
    "\n",
    "    classificador.add(Conv1D(32, kernel_size=2, activation='relu', input_shape=(30, 1)))\n",
    "    classificador.add(BatchNormalization())\n",
    "    classificador.add(Dropout(0.5))\n",
    "    classificador.add(Conv1D(32, kernel_size=2, activation='relu', input_shape=(30, 1)))\n",
    "    classificador.add(BatchNormalization())\n",
    "    classificador.add(MaxPooling1D(pool_size = (2)))\n",
    "    classificador.add(Dropout(0.25))\n",
    "    classificador.add(Flatten())\n",
    "\n",
    "    classificador.add(Dense(32, activation='relu'))\n",
    "    classificador.add(Dropout(0.2))\n",
    "   \n",
    "    classificador.add(Dense(1, activation='sigmoid'))\n",
    "\n",
    "    classificador.compile(optimizer='adam', loss='binary_crossentropy', metrics=['accuracy'])\n",
    "\n",
    "    return classificador\n",
    "\n",
    "#Definindo número de folds\n",
    "n_folds = 5\n",
    "\n",
    "#Inicializando lista para armazenar resultados de validação\n",
    "results = []\n",
    "\n",
    "#Criando objeto KFold\n",
    "kfold = KFold(n_folds, shuffle=True, random_state=0)\n",
    "\n",
    "# Loop para cada fold\n",
    "for train_index, val_index in kfold.split(X, y):\n",
    "    #dividindo dados em treino e validação\n",
    "    X_train, X_val = X[train_index], X[val_index]\n",
    "    y_train, y_val = y[train_index], y[val_index]\n",
    "    \n",
    "    #adicionando uma dimensão adicional na sua entrada, usando o método reshape()\n",
    "    X_train = X_train.reshape(X_train.shape[0], X_train.shape[1], 1)\n",
    "    X_val = X_val.reshape(X_val.shape[0], X_val.shape[1], 1)\n",
    "\n",
    "    \n",
    "    #Criando o modelo classificador CNN\n",
    "    classificador = create_classificador()\n",
    "\n",
    "    #Treinando o modelo com o conjunto de treinamento e validação\n",
    "    history = classificador.fit(X_train, y_train, validation_data=(X_val, y_val), epochs=14, batch_size = 256, verbose=0)\n",
    "\n",
    "    #Avaliando modelo\n",
    "    result = classificador.evaluate(X_val, y_val)\n",
    "\n",
    "    #Armazenar os resultados (acurácia)\n",
    "    results.append(result)\n",
    "\n",
    "# Imprimir resultados médios\n",
    "print(\"Accuracy: %.2f%% (+/- %.2f%%)\" % (np.mean(results, axis=0)[1]*100, np.std(results, axis=0)[1]*100))\n"
   ]
  },
  {
   "cell_type": "markdown",
   "id": "ebcfb490",
   "metadata": {},
   "source": [
    "Aqui, o método KFold é usado para dividir o conjunto de dados em n_folds (no seu caso, 5) partes. Em seguida, um loop é executado para cada fold, com os dados de treinamento e validação sendo separados para cada iteração. O modelo CNN é treinado e avaliado com o conjunto de treinamento e validação, respectivamente, e a acurácia é armazenada na lista results. Finalmente, a acurácia média e a variância são impressas."
   ]
  },
  {
   "cell_type": "code",
   "execution_count": 7,
   "id": "a4ef0cf8",
   "metadata": {},
   "outputs": [
    {
     "data": {
      "text/plain": [
       "<matplotlib.legend.Legend at 0x1d90ab340b8>"
      ]
     },
     "execution_count": 7,
     "metadata": {},
     "output_type": "execute_result"
    },
    {
     "data": {
      "image/png": "[encoded data removed]",
      "text/plain": [
       "<Figure size 720x360 with 1 Axes>"
      ]
     },
     "metadata": {
      "needs_background": "light"
     },
     "output_type": "display_data"
    }
   ],
   "source": [
    "#Plots da acurácia do modelo\n",
    "plt.figure(figsize=(10, 5))\n",
    "plt.plot(history.history['accuracy'],label = 'treino')\n",
    "plt.plot(history.history['val_accuracy'],label = 'validação')\n",
    "plt.axhline(y=result[1], color='r', linestyle='--',label = 'teste')\n",
    "plt.title('Acurácia durante as épocas')\n",
    "plt.ylabel('Acurácia')\n",
    "plt.xlabel('Épocas')\n",
    "plt.legend(loc='upper left')"
   ]
  },
  {
   "cell_type": "code",
   "execution_count": 8,
   "id": "6fcedb9c",
   "metadata": {},
   "outputs": [
    {
     "data": {
      "text/plain": [
       "<matplotlib.legend.Legend at 0x1d90a7ee358>"
      ]
     },
     "execution_count": 8,
     "metadata": {},
     "output_type": "execute_result"
    },
    {
     "data": {
      "image/png": "[encoded data removed]",
      "text/plain": [
       "<Figure size 720x360 with 1 Axes>"
      ]
     },
     "metadata": {
      "needs_background": "light"
     },
     "output_type": "display_data"
    }
   ],
   "source": [
    "#Plots do valor de perda do modelo\n",
    "plt.figure(figsize=(10, 5))\n",
    "plt.plot(history.history['loss'])\n",
    "plt.plot(history.history['val_loss'])\n",
    "plt.title('Perda do modelo')\n",
    "plt.ylabel('Perda')\n",
    "plt.xlabel('Épocas')\n",
    "plt.legend(['treino', 'teste'], loc='upper left')"
   ]
  },
  {
   "cell_type": "code",
   "execution_count": 9,
   "id": "1dc31b86",
   "metadata": {},
   "outputs": [
    {
     "data": {
      "text/plain": [
       "array([[1.20439609e-05],\n",
       "       [9.69381472e-06],\n",
       "       [7.67638121e-05],\n",
       "       ...,\n",
       "       [6.26470910e-06],\n",
       "       [2.13230373e-06],\n",
       "       [1.30924855e-05]], dtype=float32)"
      ]
     },
     "execution_count": 9,
     "metadata": {},
     "output_type": "execute_result"
    }
   ],
   "source": [
    "#probabilidades de predição de cada classse (valores)\n",
    "y_predicted_probs = classificador.predict(X_val)\n",
    "y_predicted_probs"
   ]
  },
  {
   "cell_type": "code",
   "execution_count": 10,
   "id": "43e43546",
   "metadata": {},
   "outputs": [
    {
     "data": {
      "text/plain": [
       "array([0, 0, 0, ..., 0, 0, 0])"
      ]
     },
     "execution_count": 10,
     "metadata": {},
     "output_type": "execute_result"
    }
   ],
   "source": [
    "#probabilidades de cada classse (labels) analisar a linha de classificação\n",
    "y_predicted = (classificador.predict(X_val) > 0.6).astype(\"int32\").ravel()\n",
    "y_predicted"
   ]
  },
  {
   "cell_type": "code",
   "execution_count": 11,
   "id": "93e14fc3",
   "metadata": {},
   "outputs": [],
   "source": [
    "from sklearn.metrics import confusion_matrix\n",
    "from sklearn.metrics import precision_score, recall_score, f1_score\n",
    "from sklearn.metrics import balanced_accuracy_score\n",
    "from sklearn.metrics import accuracy_score\n",
    "from sklearn.metrics import precision_recall_fscore_support\n",
    "from sklearn.metrics import roc_auc_score"
   ]
  },
  {
   "cell_type": "code",
   "execution_count": 12,
   "id": "64cd77f2",
   "metadata": {},
   "outputs": [],
   "source": [
    "# Calcule as métricas de avaliação\n",
    "precision = precision_score(y_val, y_predicted)\n",
    "recall = recall_score(y_val, y_predicted)\n",
    "f1 = f1_score(y_val, y_predicted)\n",
    "ballance_accuracy = balanced_accuracy_score(y_val, y_predicted)\n",
    "accuracy = accuracy_score(y_val, y_predicted)\n",
    "precision_macro, recall_macro, f1_macro, _ = precision_recall_fscore_support(y_val, y_predicted, average='macro')\n",
    "roc_auc = roc_auc_score(y_val, y_predicted)"
   ]
  },
  {
   "cell_type": "code",
   "execution_count": 13,
   "id": "355af82b",
   "metadata": {},
   "outputs": [
    {
     "name": "stdout",
     "output_type": "stream",
     "text": [
      "Precision:\n",
      "\t0.9113924050632911\n",
      "Recall:\n",
      "\t0.7128712871287128\n",
      "F1 Score:\n",
      "\t0.8\n",
      "Balanced Accuracy:\n",
      "\t0.8563740888686124\n",
      "Precision Macro:\n",
      "\t0.955441288850692\n",
      "Accuracy:\n",
      "\t0.9993679886237953\n",
      "Precision Macro:\n",
      "\t0.955441288850692\n",
      "Recall Macro:\n",
      "\t0.8563740888686124\n",
      "F1 Macro:\n",
      "\t0.8998417471118847\n",
      "ROC AUC:\n",
      "\t0.8563740888686124\n"
     ]
    }
   ],
   "source": [
    "print('Precision:\\n', precision, sep='\\t')\n",
    "print('Recall:\\n', recall, sep='\\t')\n",
    "print('F1 Score:\\n', f1,sep='\\t')\n",
    "print('Balanced Accuracy:\\n', ballance_accuracy,sep='\\t')\n",
    "print('Precision Macro:\\n', precision_macro, sep='\\t')\n",
    "print('Accuracy:\\n', accuracy,sep='\\t')\n",
    "print('Precision Macro:\\n', precision_macro, sep='\\t')\n",
    "print('Recall Macro:\\n', recall_macro, sep='\\t')\n",
    "print('F1 Macro:\\n', f1_macro, sep='\\t')\n",
    "print('ROC AUC:\\n', roc_auc,sep='\\t')"
   ]
  },
  {
   "cell_type": "code",
   "execution_count": 14,
   "id": "dc5207ee",
   "metadata": {},
   "outputs": [
    {
     "name": "stdout",
     "output_type": "stream",
     "text": [
      "                   Resultados\n",
      "Precision            0.911392\n",
      "Recall               0.712871\n",
      "F1-score             0.800000\n",
      "Balanced Accuracy    0.856374\n",
      "Accuracy             0.999368\n",
      "Macro Precision      0.955441\n",
      "Macro Recall         0.856374\n",
      "Macro F1-score       0.899842\n",
      "ROC AUC              0.856374\n"
     ]
    }
   ],
   "source": [
    "metrics = {\n",
    "    'Precision': precision,\n",
    "    'Recall': recall,\n",
    "    'F1-score': f1,\n",
    "    'Balanced Accuracy': ballance_accuracy,\n",
    "    'Accuracy': accuracy,\n",
    "    'Macro Precision': precision_macro,\n",
    "    'Macro Recall': recall_macro,\n",
    "    'Macro F1-score': f1_macro,\n",
    "    'ROC AUC': roc_auc\n",
    "}\n",
    "\n",
    "metrics_df = pd.DataFrame.from_dict(metrics, orient='index', columns=['Resultados'])\n",
    "print(metrics_df)"
   ]
  },
  {
   "cell_type": "code",
   "execution_count": 16,
   "id": "44c79600",
   "metadata": {},
   "outputs": [],
   "source": [
    "from sklearn.metrics import confusion_matrix, ConfusionMatrixDisplay, classification_report"
   ]
  },
  {
   "cell_type": "code",
   "execution_count": 17,
   "id": "d2cbe5aa",
   "metadata": {},
   "outputs": [
    {
     "name": "stdout",
     "output_type": "stream",
     "text": [
      "              precision    recall  f1-score   support\n",
      "\n",
      "           0       1.00      1.00      1.00     56860\n",
      "           1       0.91      0.71      0.80       101\n",
      "\n",
      "    accuracy                           1.00     56961\n",
      "   macro avg       0.96      0.86      0.90     56961\n",
      "weighted avg       1.00      1.00      1.00     56961\n",
      "\n"
     ]
    }
   ],
   "source": [
    "print(classification_report(y_val, y_predicted))"
   ]
  },
  {
   "cell_type": "code",
   "execution_count": 18,
   "id": "1fb12d2d",
   "metadata": {},
   "outputs": [
    {
     "data": {
      "image/png": "[encoded data removed]",
      "text/plain": [
       "<Figure size 432x288 with 2 Axes>"
      ]
     },
     "metadata": {
      "needs_background": "light"
     },
     "output_type": "display_data"
    }
   ],
   "source": [
    "from sklearn.metrics import confusion_matrix\n",
    "from sklearn.metrics import ConfusionMatrixDisplay\n",
    "\n",
    "cm = confusion_matrix(y_val, np.around(y_predicted))\n",
    "display = ConfusionMatrixDisplay(cm)\n",
    "display.plot(cmap=plt.cm.YlOrRd)\n",
    "plt.grid(False)\n",
    "plt.show()"
   ]
  },
  {
   "cell_type": "markdown",
   "id": "618ec3b9",
   "metadata": {},
   "source": [
    "Utilizei a função numpy.where para verificar se os valores previstos são iguais aos valores verdadeiros."
   ]
  },
  {
   "cell_type": "code",
   "execution_count": 19,
   "id": "95850b7f",
   "metadata": {},
   "outputs": [
    {
     "name": "stdout",
     "output_type": "stream",
     "text": [
      "Contagem de valores previstos classificados corretamente: 56925\n"
     ]
    }
   ],
   "source": [
    "# Contagem de valores previstos corretamente\n",
    "correct = np.sum(np.where(y_predicted == y_val, 1, 0))\n",
    "print(\"Contagem de valores previstos classificados corretamente:\", correct)"
   ]
  },
  {
   "cell_type": "code",
   "execution_count": 20,
   "id": "48d0dc32",
   "metadata": {},
   "outputs": [
    {
     "name": "stdout",
     "output_type": "stream",
     "text": [
      "Contagem de valores previstos classificados incorretamente: 36\n"
     ]
    }
   ],
   "source": [
    "# contagem de valores previstos incorretamente\n",
    "incorrect = np.sum(np.where(y_predicted != y_val, 1, 0))\n",
    "\n",
    "print(\"Contagem de valores previstos classificados incorretamente:\", incorrect)"
   ]
  },
  {
   "cell_type": "markdown",
   "id": "2242af16",
   "metadata": {},
   "source": [
    "Nesse exemplo, temos dois arrays: y_test que representa as classes verdadeiras e y_pred que representa as classes previstas pelo nosso modelo de aprendizagem de máquina. Utilizamos a função np.where para comparar cada elemento dos arrays e, se o valor previsto é igual ao valor verdadeiro, adicionamos 1 à contagem. A mesma coisa é feita para saber os que foram classificados incorretamente. No final, imprimimos a contagem de valores previstos corretamente. E se notar, é possível ver esses valores na matriz de confusão."
   ]
  },
  {
   "cell_type": "markdown",
   "id": "6b786995",
   "metadata": {},
   "source": [
    "#### Salvando os resultados em um CSV"
   ]
  },
  {
   "cell_type": "code",
   "execution_count": 15,
   "id": "385b256e",
   "metadata": {},
   "outputs": [],
   "source": [
    "# Salve o DataFrame em um arquivo CSV\n",
    "metrics_df.to_csv('results_tentativas_KFOLD_CNN.csv', index=False)"
   ]
  }
 ],
 "metadata": {
  "kernelspec": {
   "display_name": "Python 3",
   "language": "python",
   "name": "python3"
  },
  "language_info": {
   "codemirror_mode": {
    "name": "ipython",
    "version": 3
   },
   "file_extension": ".py",
   "mimetype": "text/x-python",
   "name": "python",
   "nbconvert_exporter": "python",
   "pygments_lexer": "ipython3",
   "version": "3.6.13"
  }
 },
 "nbformat": 4,
 "nbformat_minor": 5
}
