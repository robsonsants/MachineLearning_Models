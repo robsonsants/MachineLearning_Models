{
 "cells": [
  {
   "cell_type": "markdown",
   "id": "3a157e6e",
   "metadata": {},
   "source": [
    "### Instalação de algumas bibliotecas "
   ]
  },
  {
   "cell_type": "code",
   "execution_count": 1,
   "id": "36696211",
   "metadata": {},
   "outputs": [
    {
     "name": "stdout",
     "output_type": "stream",
     "text": [
      "Requirement already satisfied: pandas-profiling in c:\\users\\allis\\anaconda3\\envs\\tensorflow\\lib\\site-packages (3.1.0)\n",
      "Requirement already satisfied: joblib~=1.0.1 in c:\\users\\allis\\anaconda3\\envs\\tensorflow\\lib\\site-packages (from pandas-profiling) (1.0.1)\n",
      "Requirement already satisfied: matplotlib>=3.2.0 in c:\\users\\allis\\anaconda3\\envs\\tensorflow\\lib\\site-packages (from pandas-profiling) (3.3.4)\n",
      "Requirement already satisfied: visions[type_image_path]==0.7.4 in c:\\users\\allis\\anaconda3\\envs\\tensorflow\\lib\\site-packages (from pandas-profiling) (0.7.4)\n",
      "Requirement already satisfied: PyYAML>=5.0.0 in c:\\users\\allis\\anaconda3\\envs\\tensorflow\\lib\\site-packages (from pandas-profiling) (6.0)\n",
      "Requirement already satisfied: multimethod>=1.4 in c:\\users\\allis\\anaconda3\\envs\\tensorflow\\lib\\site-packages (from pandas-profiling) (1.5)\n",
      "Requirement already satisfied: scipy>=1.4.1 in c:\\users\\allis\\anaconda3\\envs\\tensorflow\\lib\\site-packages (from pandas-profiling) (1.5.2)\n",
      "Requirement already satisfied: tangled-up-in-unicode==0.1.0 in c:\\users\\allis\\anaconda3\\envs\\tensorflow\\lib\\site-packages (from pandas-profiling) (0.1.0)\n",
      "Requirement already satisfied: htmlmin>=0.1.12 in c:\\users\\allis\\anaconda3\\envs\\tensorflow\\lib\\site-packages (from pandas-profiling) (0.1.12)\n",
      "Requirement already satisfied: pandas!=1.0.0,!=1.0.1,!=1.0.2,!=1.1.0,>=0.25.3 in c:\\users\\allis\\anaconda3\\envs\\tensorflow\\lib\\site-packages (from pandas-profiling) (1.1.5)\n",
      "Requirement already satisfied: numpy>=1.16.0 in c:\\users\\allis\\anaconda3\\envs\\tensorflow\\lib\\site-packages (from pandas-profiling) (1.19.5)\n",
      "Requirement already satisfied: phik>=0.11.1 in c:\\users\\allis\\anaconda3\\envs\\tensorflow\\lib\\site-packages (from pandas-profiling) (0.12.0)\n",
      "Requirement already satisfied: seaborn>=0.10.1 in c:\\users\\allis\\anaconda3\\envs\\tensorflow\\lib\\site-packages (from pandas-profiling) (0.11.2)\n",
      "Requirement already satisfied: markupsafe~=2.0.1 in c:\\users\\allis\\anaconda3\\envs\\tensorflow\\lib\\site-packages (from pandas-profiling) (2.0.1)\n",
      "Requirement already satisfied: tqdm>=4.48.2 in c:\\users\\allis\\anaconda3\\envs\\tensorflow\\lib\\site-packages (from pandas-profiling) (4.64.1)\n",
      "Requirement already satisfied: jinja2>=2.11.1 in c:\\users\\allis\\anaconda3\\envs\\tensorflow\\lib\\site-packages (from pandas-profiling) (3.0.3)\n",
      "Requirement already satisfied: requests>=2.24.0 in c:\\users\\allis\\anaconda3\\envs\\tensorflow\\lib\\site-packages (from pandas-profiling) (2.27.1)\n",
      "Requirement already satisfied: pydantic>=1.8.1 in c:\\users\\allis\\anaconda3\\envs\\tensorflow\\lib\\site-packages (from pandas-profiling) (1.9.2)\n",
      "Requirement already satisfied: missingno>=0.4.2 in c:\\users\\allis\\anaconda3\\envs\\tensorflow\\lib\\site-packages (from pandas-profiling) (0.5.1)\n",
      "Requirement already satisfied: attrs>=19.3.0 in c:\\users\\allis\\anaconda3\\envs\\tensorflow\\lib\\site-packages (from visions[type_image_path]==0.7.4->pandas-profiling) (21.4.0)\n",
      "Requirement already satisfied: networkx>=2.4 in c:\\users\\allis\\anaconda3\\envs\\tensorflow\\lib\\site-packages (from visions[type_image_path]==0.7.4->pandas-profiling) (2.5.1)\n",
      "Requirement already satisfied: Pillow in c:\\users\\allis\\anaconda3\\envs\\tensorflow\\lib\\site-packages (from visions[type_image_path]==0.7.4->pandas-profiling) (8.3.1)\n",
      "Requirement already satisfied: imagehash in c:\\users\\allis\\anaconda3\\envs\\tensorflow\\lib\\site-packages (from visions[type_image_path]==0.7.4->pandas-profiling) (4.3.1)\n",
      "Requirement already satisfied: kiwisolver>=1.0.1 in c:\\users\\allis\\anaconda3\\envs\\tensorflow\\lib\\site-packages (from matplotlib>=3.2.0->pandas-profiling) (1.3.1)\n",
      "Requirement already satisfied: pyparsing!=2.0.4,!=2.1.2,!=2.1.6,>=2.0.3 in c:\\users\\allis\\anaconda3\\envs\\tensorflow\\lib\\site-packages (from matplotlib>=3.2.0->pandas-profiling) (3.0.4)\n",
      "Requirement already satisfied: python-dateutil>=2.1 in c:\\users\\allis\\anaconda3\\envs\\tensorflow\\lib\\site-packages (from matplotlib>=3.2.0->pandas-profiling) (2.8.2)\n",
      "Requirement already satisfied: cycler>=0.10 in c:\\users\\allis\\anaconda3\\envs\\tensorflow\\lib\\site-packages (from matplotlib>=3.2.0->pandas-profiling) (0.11.0)\n",
      "Collecting decorator<5,>=4.3\n",
      "  Using cached decorator-4.4.2-py2.py3-none-any.whl (9.2 kB)\n",
      "Requirement already satisfied: pytz>=2017.2 in c:\\users\\allis\\anaconda3\\envs\\tensorflow\\lib\\site-packages (from pandas!=1.0.0,!=1.0.1,!=1.0.2,!=1.1.0,>=0.25.3->pandas-profiling) (2021.3)\n",
      "Requirement already satisfied: dataclasses>=0.6 in c:\\users\\allis\\anaconda3\\envs\\tensorflow\\lib\\site-packages (from pydantic>=1.8.1->pandas-profiling) (0.8)\n",
      "Requirement already satisfied: typing-extensions>=3.7.4.3 in c:\\users\\allis\\anaconda3\\envs\\tensorflow\\lib\\site-packages (from pydantic>=1.8.1->pandas-profiling) (3.7.4.3)\n",
      "Requirement already satisfied: six>=1.5 in c:\\users\\allis\\anaconda3\\envs\\tensorflow\\lib\\site-packages (from python-dateutil>=2.1->matplotlib>=3.2.0->pandas-profiling) (1.15.0)\n",
      "Requirement already satisfied: charset-normalizer~=2.0.0 in c:\\users\\allis\\anaconda3\\envs\\tensorflow\\lib\\site-packages (from requests>=2.24.0->pandas-profiling) (2.0.12)\n",
      "Requirement already satisfied: certifi>=2017.4.17 in c:\\users\\allis\\anaconda3\\envs\\tensorflow\\lib\\site-packages (from requests>=2.24.0->pandas-profiling) (2022.6.15)\n",
      "Requirement already satisfied: idna<4,>=2.5 in c:\\users\\allis\\anaconda3\\envs\\tensorflow\\lib\\site-packages (from requests>=2.24.0->pandas-profiling) (3.3)\n",
      "Requirement already satisfied: urllib3<1.27,>=1.21.1 in c:\\users\\allis\\anaconda3\\envs\\tensorflow\\lib\\site-packages (from requests>=2.24.0->pandas-profiling) (1.26.10)\n",
      "Requirement already satisfied: importlib-resources in c:\\users\\allis\\anaconda3\\envs\\tensorflow\\lib\\site-packages (from tqdm>=4.48.2->pandas-profiling) (5.4.0)\n",
      "Requirement already satisfied: colorama in c:\\users\\allis\\anaconda3\\envs\\tensorflow\\lib\\site-packages (from tqdm>=4.48.2->pandas-profiling) (0.4.4)\n",
      "Requirement already satisfied: PyWavelets in c:\\users\\allis\\anaconda3\\envs\\tensorflow\\lib\\site-packages (from imagehash->visions[type_image_path]==0.7.4->pandas-profiling) (1.1.1)\n",
      "Requirement already satisfied: zipp>=3.1.0 in c:\\users\\allis\\anaconda3\\envs\\tensorflow\\lib\\site-packages (from importlib-resources->tqdm>=4.48.2->pandas-profiling) (3.6.0)\n",
      "Installing collected packages: decorator\n",
      "  Attempting uninstall: decorator\n",
      "    Found existing installation: decorator 5.1.1\n",
      "    Uninstalling decorator-5.1.1:\n",
      "      Successfully uninstalled decorator-5.1.1\n",
      "Successfully installed decorator-4.4.2\n"
     ]
    }
   ],
   "source": [
    "!pip install pandas-profiling"
   ]
  },
  {
   "cell_type": "code",
   "execution_count": 2,
   "id": "d82ece8b",
   "metadata": {},
   "outputs": [
    {
     "name": "stdout",
     "output_type": "stream",
     "text": [
      "Requirement already satisfied: imblearn in c:\\users\\allis\\anaconda3\\envs\\tensorflow\\lib\\site-packages (0.0)\n",
      "Requirement already satisfied: imbalanced-learn in c:\\users\\allis\\anaconda3\\envs\\tensorflow\\lib\\site-packages (from imblearn) (0.8.1)\n",
      "Requirement already satisfied: scikit-learn>=0.24 in c:\\users\\allis\\anaconda3\\envs\\tensorflow\\lib\\site-packages (from imbalanced-learn->imblearn) (0.24.2)\n",
      "Requirement already satisfied: numpy>=1.13.3 in c:\\users\\allis\\anaconda3\\envs\\tensorflow\\lib\\site-packages (from imbalanced-learn->imblearn) (1.19.5)\n",
      "Requirement already satisfied: scipy>=0.19.1 in c:\\users\\allis\\anaconda3\\envs\\tensorflow\\lib\\site-packages (from imbalanced-learn->imblearn) (1.5.2)\n",
      "Requirement already satisfied: joblib>=0.11 in c:\\users\\allis\\anaconda3\\envs\\tensorflow\\lib\\site-packages (from imbalanced-learn->imblearn) (1.0.1)\n",
      "Requirement already satisfied: threadpoolctl>=2.0.0 in c:\\users\\allis\\anaconda3\\envs\\tensorflow\\lib\\site-packages (from scikit-learn>=0.24->imbalanced-learn->imblearn) (2.2.0)\n"
     ]
    }
   ],
   "source": [
    "!pip install imblearn"
   ]
  },
  {
   "cell_type": "code",
   "execution_count": 3,
   "id": "68053789",
   "metadata": {},
   "outputs": [
    {
     "name": "stdout",
     "output_type": "stream",
     "text": [
      "Requirement already satisfied: ipywidgets in c:\\users\\allis\\anaconda3\\envs\\tensorflow\\lib\\site-packages (7.7.2)\n",
      "Requirement already satisfied: traitlets>=4.3.1 in c:\\users\\allis\\anaconda3\\envs\\tensorflow\\lib\\site-packages (from ipywidgets) (4.3.3)\n",
      "Requirement already satisfied: ipykernel>=4.5.1 in c:\\users\\allis\\anaconda3\\envs\\tensorflow\\lib\\site-packages (from ipywidgets) (5.3.4)\n",
      "Requirement already satisfied: ipython>=4.0.0 in c:\\users\\allis\\anaconda3\\envs\\tensorflow\\lib\\site-packages (from ipywidgets) (7.16.1)\n",
      "Requirement already satisfied: widgetsnbextension~=3.6.0 in c:\\users\\allis\\anaconda3\\envs\\tensorflow\\lib\\site-packages (from ipywidgets) (3.6.1)\n",
      "Requirement already satisfied: jupyterlab-widgets<3,>=1.0.0 in c:\\users\\allis\\anaconda3\\envs\\tensorflow\\lib\\site-packages (from ipywidgets) (1.1.1)\n",
      "Requirement already satisfied: ipython-genutils~=0.2.0 in c:\\users\\allis\\anaconda3\\envs\\tensorflow\\lib\\site-packages (from ipywidgets) (0.2.0)\n",
      "Requirement already satisfied: jupyter-client in c:\\users\\allis\\anaconda3\\envs\\tensorflow\\lib\\site-packages (from ipykernel>=4.5.1->ipywidgets) (7.1.2)\n",
      "Requirement already satisfied: tornado>=4.2 in c:\\users\\allis\\anaconda3\\envs\\tensorflow\\lib\\site-packages (from ipykernel>=4.5.1->ipywidgets) (6.1)\n",
      "Requirement already satisfied: pickleshare in c:\\users\\allis\\anaconda3\\envs\\tensorflow\\lib\\site-packages (from ipython>=4.0.0->ipywidgets) (0.7.5)\n",
      "Requirement already satisfied: pygments in c:\\users\\allis\\anaconda3\\envs\\tensorflow\\lib\\site-packages (from ipython>=4.0.0->ipywidgets) (2.11.2)\n",
      "Requirement already satisfied: colorama in c:\\users\\allis\\anaconda3\\envs\\tensorflow\\lib\\site-packages (from ipython>=4.0.0->ipywidgets) (0.4.4)\n",
      "Requirement already satisfied: jedi>=0.10 in c:\\users\\allis\\anaconda3\\envs\\tensorflow\\lib\\site-packages (from ipython>=4.0.0->ipywidgets) (0.17.0)\n",
      "Requirement already satisfied: backcall in c:\\users\\allis\\anaconda3\\envs\\tensorflow\\lib\\site-packages (from ipython>=4.0.0->ipywidgets) (0.2.0)\n",
      "Requirement already satisfied: setuptools>=18.5 in c:\\users\\allis\\anaconda3\\envs\\tensorflow\\lib\\site-packages (from ipython>=4.0.0->ipywidgets) (59.6.0)\n",
      "Requirement already satisfied: prompt-toolkit!=3.0.0,!=3.0.1,<3.1.0,>=2.0.0 in c:\\users\\allis\\anaconda3\\envs\\tensorflow\\lib\\site-packages (from ipython>=4.0.0->ipywidgets) (3.0.20)\n",
      "Requirement already satisfied: decorator in c:\\users\\allis\\anaconda3\\envs\\tensorflow\\lib\\site-packages (from ipython>=4.0.0->ipywidgets) (4.4.2)\n",
      "Requirement already satisfied: parso>=0.7.0 in c:\\users\\allis\\anaconda3\\envs\\tensorflow\\lib\\site-packages (from jedi>=0.10->ipython>=4.0.0->ipywidgets) (0.8.3)\n",
      "Requirement already satisfied: wcwidth in c:\\users\\allis\\anaconda3\\envs\\tensorflow\\lib\\site-packages (from prompt-toolkit!=3.0.0,!=3.0.1,<3.1.0,>=2.0.0->ipython>=4.0.0->ipywidgets) (0.2.5)\n",
      "Requirement already satisfied: six in c:\\users\\allis\\anaconda3\\envs\\tensorflow\\lib\\site-packages (from traitlets>=4.3.1->ipywidgets) (1.15.0)\n",
      "Requirement already satisfied: notebook>=4.4.1 in c:\\users\\allis\\anaconda3\\envs\\tensorflow\\lib\\site-packages (from widgetsnbextension~=3.6.0->ipywidgets) (6.4.3)\n",
      "Requirement already satisfied: terminado>=0.8.3 in c:\\users\\allis\\anaconda3\\envs\\tensorflow\\lib\\site-packages (from notebook>=4.4.1->widgetsnbextension~=3.6.0->ipywidgets) (0.9.4)\n",
      "Requirement already satisfied: argon2-cffi in c:\\users\\allis\\anaconda3\\envs\\tensorflow\\lib\\site-packages (from notebook>=4.4.1->widgetsnbextension~=3.6.0->ipywidgets) (20.1.0)\n",
      "Requirement already satisfied: prometheus-client in c:\\users\\allis\\anaconda3\\envs\\tensorflow\\lib\\site-packages (from notebook>=4.4.1->widgetsnbextension~=3.6.0->ipywidgets) (0.13.1)\n",
      "Requirement already satisfied: nbformat in c:\\users\\allis\\anaconda3\\envs\\tensorflow\\lib\\site-packages (from notebook>=4.4.1->widgetsnbextension~=3.6.0->ipywidgets) (5.1.3)\n",
      "Requirement already satisfied: pyzmq>=17 in c:\\users\\allis\\anaconda3\\envs\\tensorflow\\lib\\site-packages (from notebook>=4.4.1->widgetsnbextension~=3.6.0->ipywidgets) (22.2.1)\n",
      "Requirement already satisfied: nbconvert in c:\\users\\allis\\anaconda3\\envs\\tensorflow\\lib\\site-packages (from notebook>=4.4.1->widgetsnbextension~=3.6.0->ipywidgets) (6.0.7)\n",
      "Requirement already satisfied: jupyter-core>=4.6.1 in c:\\users\\allis\\anaconda3\\envs\\tensorflow\\lib\\site-packages (from notebook>=4.4.1->widgetsnbextension~=3.6.0->ipywidgets) (4.8.1)\n",
      "Requirement already satisfied: Send2Trash>=1.5.0 in c:\\users\\allis\\anaconda3\\envs\\tensorflow\\lib\\site-packages (from notebook>=4.4.1->widgetsnbextension~=3.6.0->ipywidgets) (1.8.0)\n",
      "Requirement already satisfied: jinja2 in c:\\users\\allis\\anaconda3\\envs\\tensorflow\\lib\\site-packages (from notebook>=4.4.1->widgetsnbextension~=3.6.0->ipywidgets) (3.0.3)\n",
      "Requirement already satisfied: python-dateutil>=2.1 in c:\\users\\allis\\anaconda3\\envs\\tensorflow\\lib\\site-packages (from jupyter-client->ipykernel>=4.5.1->ipywidgets) (2.8.2)\n",
      "Requirement already satisfied: nest-asyncio>=1.5 in c:\\users\\allis\\anaconda3\\envs\\tensorflow\\lib\\site-packages (from jupyter-client->ipykernel>=4.5.1->ipywidgets) (1.5.1)\n",
      "Requirement already satisfied: entrypoints in c:\\users\\allis\\anaconda3\\envs\\tensorflow\\lib\\site-packages (from jupyter-client->ipykernel>=4.5.1->ipywidgets) (0.3)\n",
      "Requirement already satisfied: pywin32>=1.0 in c:\\users\\allis\\anaconda3\\envs\\tensorflow\\lib\\site-packages (from jupyter-core>=4.6.1->notebook>=4.4.1->widgetsnbextension~=3.6.0->ipywidgets) (228)\n",
      "Requirement already satisfied: pywinpty>=0.5 in c:\\users\\allis\\anaconda3\\envs\\tensorflow\\lib\\site-packages (from terminado>=0.8.3->notebook>=4.4.1->widgetsnbextension~=3.6.0->ipywidgets) (0.5.7)\n",
      "Requirement already satisfied: cffi>=1.0.0 in c:\\users\\allis\\anaconda3\\envs\\tensorflow\\lib\\site-packages (from argon2-cffi->notebook>=4.4.1->widgetsnbextension~=3.6.0->ipywidgets) (1.14.6)\n",
      "Requirement already satisfied: pycparser in c:\\users\\allis\\anaconda3\\envs\\tensorflow\\lib\\site-packages (from cffi>=1.0.0->argon2-cffi->notebook>=4.4.1->widgetsnbextension~=3.6.0->ipywidgets) (2.21)\n",
      "Requirement already satisfied: MarkupSafe>=2.0 in c:\\users\\allis\\anaconda3\\envs\\tensorflow\\lib\\site-packages (from jinja2->notebook>=4.4.1->widgetsnbextension~=3.6.0->ipywidgets) (2.0.1)\n",
      "Requirement already satisfied: mistune<2,>=0.8.1 in c:\\users\\allis\\anaconda3\\envs\\tensorflow\\lib\\site-packages (from nbconvert->notebook>=4.4.1->widgetsnbextension~=3.6.0->ipywidgets) (0.8.4)\n",
      "Requirement already satisfied: bleach in c:\\users\\allis\\anaconda3\\envs\\tensorflow\\lib\\site-packages (from nbconvert->notebook>=4.4.1->widgetsnbextension~=3.6.0->ipywidgets) (4.1.0)\n",
      "Requirement already satisfied: testpath in c:\\users\\allis\\anaconda3\\envs\\tensorflow\\lib\\site-packages (from nbconvert->notebook>=4.4.1->widgetsnbextension~=3.6.0->ipywidgets) (0.5.0)\n",
      "Requirement already satisfied: nbclient<0.6.0,>=0.5.0 in c:\\users\\allis\\anaconda3\\envs\\tensorflow\\lib\\site-packages (from nbconvert->notebook>=4.4.1->widgetsnbextension~=3.6.0->ipywidgets) (0.5.3)\n",
      "Requirement already satisfied: jupyterlab-pygments in c:\\users\\allis\\anaconda3\\envs\\tensorflow\\lib\\site-packages (from nbconvert->notebook>=4.4.1->widgetsnbextension~=3.6.0->ipywidgets) (0.1.2)\n",
      "Requirement already satisfied: defusedxml in c:\\users\\allis\\anaconda3\\envs\\tensorflow\\lib\\site-packages (from nbconvert->notebook>=4.4.1->widgetsnbextension~=3.6.0->ipywidgets) (0.7.1)\n",
      "Requirement already satisfied: pandocfilters>=1.4.1 in c:\\users\\allis\\anaconda3\\envs\\tensorflow\\lib\\site-packages (from nbconvert->notebook>=4.4.1->widgetsnbextension~=3.6.0->ipywidgets) (1.5.0)\n",
      "Requirement already satisfied: async-generator in c:\\users\\allis\\anaconda3\\envs\\tensorflow\\lib\\site-packages (from nbclient<0.6.0,>=0.5.0->nbconvert->notebook>=4.4.1->widgetsnbextension~=3.6.0->ipywidgets) (1.10)\n",
      "Requirement already satisfied: jsonschema!=2.5.0,>=2.4 in c:\\users\\allis\\anaconda3\\envs\\tensorflow\\lib\\site-packages (from nbformat->notebook>=4.4.1->widgetsnbextension~=3.6.0->ipywidgets) (3.0.2)\n",
      "Requirement already satisfied: pyrsistent>=0.14.0 in c:\\users\\allis\\anaconda3\\envs\\tensorflow\\lib\\site-packages (from jsonschema!=2.5.0,>=2.4->nbformat->notebook>=4.4.1->widgetsnbextension~=3.6.0->ipywidgets) (0.17.3)\n",
      "Requirement already satisfied: attrs>=17.4.0 in c:\\users\\allis\\anaconda3\\envs\\tensorflow\\lib\\site-packages (from jsonschema!=2.5.0,>=2.4->nbformat->notebook>=4.4.1->widgetsnbextension~=3.6.0->ipywidgets) (21.4.0)\n",
      "Requirement already satisfied: packaging in c:\\users\\allis\\anaconda3\\envs\\tensorflow\\lib\\site-packages (from bleach->nbconvert->notebook>=4.4.1->widgetsnbextension~=3.6.0->ipywidgets) (21.3)\n",
      "Requirement already satisfied: webencodings in c:\\users\\allis\\anaconda3\\envs\\tensorflow\\lib\\site-packages (from bleach->nbconvert->notebook>=4.4.1->widgetsnbextension~=3.6.0->ipywidgets) (0.5.1)\n",
      "Requirement already satisfied: pyparsing!=3.0.5,>=2.0.2 in c:\\users\\allis\\anaconda3\\envs\\tensorflow\\lib\\site-packages (from packaging->bleach->nbconvert->notebook>=4.4.1->widgetsnbextension~=3.6.0->ipywidgets) (3.0.4)\n"
     ]
    }
   ],
   "source": [
    "!pip install ipywidgets"
   ]
  },
  {
   "cell_type": "markdown",
   "id": "f14d440a",
   "metadata": {},
   "source": [
    "### Sumarização"
   ]
  },
  {
   "cell_type": "code",
   "execution_count": 4,
   "id": "8ab62fe7",
   "metadata": {},
   "outputs": [],
   "source": [
    "from pandas_profiling import ProfileReport"
   ]
  },
  {
   "cell_type": "code",
   "execution_count": 5,
   "id": "f299b459",
   "metadata": {},
   "outputs": [],
   "source": [
    "%matplotlib inline\n",
    "import matplotlib\n",
    "import matplotlib.pyplot as plt\n",
    "import pandas as pd\n",
    "import numpy as np\n",
    "import seaborn as sns\n",
    "import sklearn \n",
    "import imblearn"
   ]
  },
  {
   "cell_type": "code",
   "execution_count": 6,
   "id": "7ff5034d",
   "metadata": {},
   "outputs": [],
   "source": [
    "import warnings\n",
    "warnings.filterwarnings('ignore')"
   ]
  },
  {
   "cell_type": "code",
   "execution_count": 7,
   "id": "51d0101a",
   "metadata": {},
   "outputs": [
    {
     "data": {
      "text/html": [
       "<div>\n",
       "<style scoped>\n",
       "    .dataframe tbody tr th:only-of-type {\n",
       "        vertical-align: middle;\n",
       "    }\n",
       "\n",
       "    .dataframe tbody tr th {\n",
       "        vertical-align: top;\n",
       "    }\n",
       "\n",
       "    .dataframe thead th {\n",
       "        text-align: right;\n",
       "    }\n",
       "</style>\n",
       "<table border=\"1\" class=\"dataframe\">\n",
       "  <thead>\n",
       "    <tr style=\"text-align: right;\">\n",
       "      <th></th>\n",
       "      <th>Time</th>\n",
       "      <th>V1</th>\n",
       "      <th>V2</th>\n",
       "      <th>V3</th>\n",
       "      <th>V4</th>\n",
       "      <th>V5</th>\n",
       "      <th>V6</th>\n",
       "      <th>V7</th>\n",
       "      <th>V8</th>\n",
       "      <th>V9</th>\n",
       "      <th>...</th>\n",
       "      <th>V21</th>\n",
       "      <th>V22</th>\n",
       "      <th>V23</th>\n",
       "      <th>V24</th>\n",
       "      <th>V25</th>\n",
       "      <th>V26</th>\n",
       "      <th>V27</th>\n",
       "      <th>V28</th>\n",
       "      <th>Amount</th>\n",
       "      <th>Class</th>\n",
       "    </tr>\n",
       "  </thead>\n",
       "  <tbody>\n",
       "    <tr>\n",
       "      <th>0</th>\n",
       "      <td>0.0</td>\n",
       "      <td>-1.359807</td>\n",
       "      <td>-0.072781</td>\n",
       "      <td>2.536347</td>\n",
       "      <td>1.378155</td>\n",
       "      <td>-0.338321</td>\n",
       "      <td>0.462388</td>\n",
       "      <td>0.239599</td>\n",
       "      <td>0.098698</td>\n",
       "      <td>0.363787</td>\n",
       "      <td>...</td>\n",
       "      <td>-0.018307</td>\n",
       "      <td>0.277838</td>\n",
       "      <td>-0.110474</td>\n",
       "      <td>0.066928</td>\n",
       "      <td>0.128539</td>\n",
       "      <td>-0.189115</td>\n",
       "      <td>0.133558</td>\n",
       "      <td>-0.021053</td>\n",
       "      <td>149.62</td>\n",
       "      <td>0</td>\n",
       "    </tr>\n",
       "    <tr>\n",
       "      <th>1</th>\n",
       "      <td>0.0</td>\n",
       "      <td>1.191857</td>\n",
       "      <td>0.266151</td>\n",
       "      <td>0.166480</td>\n",
       "      <td>0.448154</td>\n",
       "      <td>0.060018</td>\n",
       "      <td>-0.082361</td>\n",
       "      <td>-0.078803</td>\n",
       "      <td>0.085102</td>\n",
       "      <td>-0.255425</td>\n",
       "      <td>...</td>\n",
       "      <td>-0.225775</td>\n",
       "      <td>-0.638672</td>\n",
       "      <td>0.101288</td>\n",
       "      <td>-0.339846</td>\n",
       "      <td>0.167170</td>\n",
       "      <td>0.125895</td>\n",
       "      <td>-0.008983</td>\n",
       "      <td>0.014724</td>\n",
       "      <td>2.69</td>\n",
       "      <td>0</td>\n",
       "    </tr>\n",
       "    <tr>\n",
       "      <th>2</th>\n",
       "      <td>1.0</td>\n",
       "      <td>-1.358354</td>\n",
       "      <td>-1.340163</td>\n",
       "      <td>1.773209</td>\n",
       "      <td>0.379780</td>\n",
       "      <td>-0.503198</td>\n",
       "      <td>1.800499</td>\n",
       "      <td>0.791461</td>\n",
       "      <td>0.247676</td>\n",
       "      <td>-1.514654</td>\n",
       "      <td>...</td>\n",
       "      <td>0.247998</td>\n",
       "      <td>0.771679</td>\n",
       "      <td>0.909412</td>\n",
       "      <td>-0.689281</td>\n",
       "      <td>-0.327642</td>\n",
       "      <td>-0.139097</td>\n",
       "      <td>-0.055353</td>\n",
       "      <td>-0.059752</td>\n",
       "      <td>378.66</td>\n",
       "      <td>0</td>\n",
       "    </tr>\n",
       "    <tr>\n",
       "      <th>3</th>\n",
       "      <td>1.0</td>\n",
       "      <td>-0.966272</td>\n",
       "      <td>-0.185226</td>\n",
       "      <td>1.792993</td>\n",
       "      <td>-0.863291</td>\n",
       "      <td>-0.010309</td>\n",
       "      <td>1.247203</td>\n",
       "      <td>0.237609</td>\n",
       "      <td>0.377436</td>\n",
       "      <td>-1.387024</td>\n",
       "      <td>...</td>\n",
       "      <td>-0.108300</td>\n",
       "      <td>0.005274</td>\n",
       "      <td>-0.190321</td>\n",
       "      <td>-1.175575</td>\n",
       "      <td>0.647376</td>\n",
       "      <td>-0.221929</td>\n",
       "      <td>0.062723</td>\n",
       "      <td>0.061458</td>\n",
       "      <td>123.50</td>\n",
       "      <td>0</td>\n",
       "    </tr>\n",
       "    <tr>\n",
       "      <th>4</th>\n",
       "      <td>2.0</td>\n",
       "      <td>-1.158233</td>\n",
       "      <td>0.877737</td>\n",
       "      <td>1.548718</td>\n",
       "      <td>0.403034</td>\n",
       "      <td>-0.407193</td>\n",
       "      <td>0.095921</td>\n",
       "      <td>0.592941</td>\n",
       "      <td>-0.270533</td>\n",
       "      <td>0.817739</td>\n",
       "      <td>...</td>\n",
       "      <td>-0.009431</td>\n",
       "      <td>0.798278</td>\n",
       "      <td>-0.137458</td>\n",
       "      <td>0.141267</td>\n",
       "      <td>-0.206010</td>\n",
       "      <td>0.502292</td>\n",
       "      <td>0.219422</td>\n",
       "      <td>0.215153</td>\n",
       "      <td>69.99</td>\n",
       "      <td>0</td>\n",
       "    </tr>\n",
       "  </tbody>\n",
       "</table>\n",
       "<p>5 rows × 31 columns</p>\n",
       "</div>"
      ],
      "text/plain": [
       "   Time        V1        V2        V3        V4        V5        V6        V7  \\\n",
       "0   0.0 -1.359807 -0.072781  2.536347  1.378155 -0.338321  0.462388  0.239599   \n",
       "1   0.0  1.191857  0.266151  0.166480  0.448154  0.060018 -0.082361 -0.078803   \n",
       "2   1.0 -1.358354 -1.340163  1.773209  0.379780 -0.503198  1.800499  0.791461   \n",
       "3   1.0 -0.966272 -0.185226  1.792993 -0.863291 -0.010309  1.247203  0.237609   \n",
       "4   2.0 -1.158233  0.877737  1.548718  0.403034 -0.407193  0.095921  0.592941   \n",
       "\n",
       "         V8        V9  ...       V21       V22       V23       V24       V25  \\\n",
       "0  0.098698  0.363787  ... -0.018307  0.277838 -0.110474  0.066928  0.128539   \n",
       "1  0.085102 -0.255425  ... -0.225775 -0.638672  0.101288 -0.339846  0.167170   \n",
       "2  0.247676 -1.514654  ...  0.247998  0.771679  0.909412 -0.689281 -0.327642   \n",
       "3  0.377436 -1.387024  ... -0.108300  0.005274 -0.190321 -1.175575  0.647376   \n",
       "4 -0.270533  0.817739  ... -0.009431  0.798278 -0.137458  0.141267 -0.206010   \n",
       "\n",
       "        V26       V27       V28  Amount  Class  \n",
       "0 -0.189115  0.133558 -0.021053  149.62      0  \n",
       "1  0.125895 -0.008983  0.014724    2.69      0  \n",
       "2 -0.139097 -0.055353 -0.059752  378.66      0  \n",
       "3 -0.221929  0.062723  0.061458  123.50      0  \n",
       "4  0.502292  0.219422  0.215153   69.99      0  \n",
       "\n",
       "[5 rows x 31 columns]"
      ]
     },
     "execution_count": 7,
     "metadata": {},
     "output_type": "execute_result"
    }
   ],
   "source": [
    "fraud_detection = pd.read_csv('creditcard.csv')\n",
    "fraud_detection.head()"
   ]
  },
  {
   "cell_type": "code",
   "execution_count": 8,
   "id": "2a98ef3a",
   "metadata": {
    "scrolled": true
   },
   "outputs": [],
   "source": [
    "#executando a função que gera o relatório\n",
    "#profile = ProfileReport(fraud_detection, title = 'Sumarização Credit Card Fraud Detection')\n",
    "#visualização do relatório\n",
    "#profile"
   ]
  },
  {
   "cell_type": "code",
   "execution_count": 9,
   "id": "4b9659de",
   "metadata": {},
   "outputs": [],
   "source": [
    "#profile.to_file(\"mlg-ulb.html\")"
   ]
  },
  {
   "cell_type": "code",
   "execution_count": 10,
   "id": "8184bd3c",
   "metadata": {},
   "outputs": [],
   "source": [
    "#fraud_detection_BR = pd.read_csv('olist_order_payments_dataset.csv')\n",
    "#fraud_detection_BR.head()"
   ]
  },
  {
   "cell_type": "code",
   "execution_count": 11,
   "id": "a7f6a350",
   "metadata": {},
   "outputs": [],
   "source": [
    "#executando a função que gera o relatório\n",
    "#profile2 = ProfileReport(fraud_detection_BR, title = 'Sumarização Credit Card Payments Ecommerce BR')\n",
    "#visualização do relatório\n",
    "#profile2"
   ]
  },
  {
   "cell_type": "code",
   "execution_count": 12,
   "id": "8117e264",
   "metadata": {},
   "outputs": [],
   "source": [
    "#rofile2.to_file(\"olist-br.html\")"
   ]
  },
  {
   "cell_type": "markdown",
   "id": "c4ebaf9e",
   "metadata": {},
   "source": [
    "### IMBALANCED RATIO"
   ]
  },
  {
   "cell_type": "code",
   "execution_count": 13,
   "id": "9953e56b",
   "metadata": {},
   "outputs": [
    {
     "name": "stdout",
     "output_type": "stream",
     "text": [
      "y_train class counts\n",
      "0    184804\n",
      "1       320\n",
      "Name: Class, dtype: int64\n",
      "\n",
      "y_test class counts\n",
      "0    99511\n",
      "1      172\n",
      "Name: Class, dtype: int64\n"
     ]
    }
   ],
   "source": [
    "from sklearn.model_selection import train_test_split\n",
    "features = pd.concat([fraud_detection.loc[:,'V1':'Amount'],fraud_detection.loc[:,'Time']],axis=1)\n",
    "labels = fraud_detection['Class']\n",
    "\n",
    "X_train,X_test,y_train,y_test = train_test_split(features,labels, stratify=labels,test_size=0.35, random_state=1)\n",
    "\n",
    "print('y_train class counts')\n",
    "print(y_train.value_counts())\n",
    "print('')\n",
    "print('y_test class counts')\n",
    "print(y_test.value_counts())\n",
    "\n",
    "\n",
    "# Let's store our y_test legit and fraud counts for normalization purposes later on\n",
    "y_test_legit = y_test.value_counts()[0]\n",
    "y_test_fraud = y_test.value_counts()[1]"
   ]
  },
  {
   "cell_type": "markdown",
   "id": "9af88c53",
   "metadata": {},
   "source": [
    "### O imbalanced ratio de um dataset é uma medida da desigualdade de distribuição de classes em um conjunto de dados.  Ele é calculado como a razão entre a classe majoritária e a classe minoritária no conjunto de dados. Para calcular o imbalanced ratio de um conjunto de dados em Python, você pode usar o seguinte código:\n"
   ]
  },
  {
   "cell_type": "code",
   "execution_count": 14,
   "id": "242044df",
   "metadata": {},
   "outputs": [
    {
     "name": "stdout",
     "output_type": "stream",
     "text": [
      "O número da classe majoritária é: 284315\n",
      "O número da classe minoritária é: 492\n",
      "O valor do imbalanced ratio é: 577.8760162601626\n"
     ]
    }
   ],
   "source": [
    "from collections import Counter\n",
    "\n",
    "# Calcule o número de exemplos em cada classe\n",
    "label_counts = Counter(labels)\n",
    "\n",
    "# Obtenha o número de exemplos da classe majoritária e minoritária\n",
    "majority_class_count = max(label_counts.values())\n",
    "print(\"O número da classe majoritária é:\", majority_class_count)\n",
    "minority_class_count = min(label_counts.values())\n",
    "print(\"O número da classe minoritária é:\", minority_class_count)\n",
    "\n",
    "# Calcule o imbalanced ratio\n",
    "imbalanced_ratio = majority_class_count / minority_class_count\n",
    "print(\"O valor do imbalanced ratio é:\", imbalanced_ratio)"
   ]
  },
  {
   "cell_type": "markdown",
   "id": "0899c1e7",
   "metadata": {},
   "source": [
    "### Aqui, \"labels\" é uma lista de rótulos (isto é, classes) para cada exemplo no conjunto de dados. O código acima usa a função Counter do módulo collections para contar o número de exemplos em cada classe e, em seguida, calcula a razão entre a classe majoritária e a classe minoritária.  Espero que isso ajude! Se você tiver alguma dúvida adicional, por favor, pergunte."
   ]
  },
  {
   "cell_type": "markdown",
   "id": "0992f12a",
   "metadata": {},
   "source": [
    "### TOY EXEMPLO  - MACHINE LEARNING"
   ]
  },
  {
   "cell_type": "markdown",
   "id": "e87a9cf6",
   "metadata": {},
   "source": [
    "Aqui está um exemplo de um pipeline completo que inclui a treinamento de vários modelos de classificação binária e a avaliação do desempenho de cada um com as métricas de avaliação especificadas:"
   ]
  },
  {
   "cell_type": "code",
   "execution_count": 15,
   "id": "11f333b1",
   "metadata": {},
   "outputs": [
    {
     "name": "stdout",
     "output_type": "stream",
     "text": [
      "Requirement already satisfied: xgboost in c:\\users\\allis\\anaconda3\\envs\\tensorflow\\lib\\site-packages (1.5.2)\n",
      "Requirement already satisfied: numpy in c:\\users\\allis\\anaconda3\\envs\\tensorflow\\lib\\site-packages (from xgboost) (1.19.5)\n",
      "Requirement already satisfied: scipy in c:\\users\\allis\\anaconda3\\envs\\tensorflow\\lib\\site-packages (from xgboost) (1.5.2)\n",
      "Note: you may need to restart the kernel to use updated packages.\n"
     ]
    }
   ],
   "source": [
    "pip install xgboost\n"
   ]
  },
  {
   "cell_type": "code",
   "execution_count": 16,
   "id": "71d4f0fd",
   "metadata": {},
   "outputs": [],
   "source": [
    "from sklearn.model_selection import StratifiedShuffleSplit\n",
    "from sklearn.preprocessing import StandardScaler"
   ]
  },
  {
   "cell_type": "code",
   "execution_count": 17,
   "id": "66e8769c",
   "metadata": {},
   "outputs": [],
   "source": [
    "# Dividir os dados em features e labels\n",
    "X = fraud_detection.drop(\"Class\", axis=1)\n",
    "y = fraud_detection[\"Class\"]\n",
    "\n",
    "# Padronizar os dados\n",
    "scaler = StandardScaler()\n",
    "X = scaler.fit_transform(X)\n",
    "\n",
    "# Dividir os dados em treinamento e teste usando o StratifiedShuffleSplit\n",
    "sss = StratifiedShuffleSplit(n_splits=1, test_size=0.7, random_state=0)\n",
    "for train_index, test_index in sss.split(X, y):\n",
    "    X_train, X_test = X[train_index], X[test_index]\n",
    "    y_train, y_test = y[train_index], y[test_index]\n"
   ]
  },
  {
   "cell_type": "code",
   "execution_count": 18,
   "id": "57646a9f",
   "metadata": {},
   "outputs": [
    {
     "name": "stdout",
     "output_type": "stream",
     "text": [
      "(85442, 30) (199365, 30) (85442,) (199365,)\n"
     ]
    }
   ],
   "source": [
    "print(X_train.shape, X_test.shape, y_train.shape, y_test.shape)"
   ]
  },
  {
   "cell_type": "code",
   "execution_count": 20,
   "id": "a25722e3",
   "metadata": {},
   "outputs": [],
   "source": [
    "# Dividir os dados em treinamento e teste usando o StratifiedShuffleSplit\n",
    "sss_val = StratifiedShuffleSplit(n_splits=1, test_size=0.15, random_state=0)\n",
    "for train_index, val_index in sss_val.split(X, y):\n",
    "    X_train, X_val = X[train_index], X[val_index]\n",
    "    y_train, y_val = y[train_index], y[val_index]"
   ]
  },
  {
   "cell_type": "code",
   "execution_count": 21,
   "id": "63ac2f20",
   "metadata": {},
   "outputs": [
    {
     "name": "stdout",
     "output_type": "stream",
     "text": [
      "(242085, 30) (42722, 30) (242085,) (42722,)\n"
     ]
    }
   ],
   "source": [
    "print(X_train.shape, X_val.shape, y_train.shape, y_val.shape)"
   ]
  },
  {
   "cell_type": "code",
   "execution_count": 22,
   "id": "5654f0af",
   "metadata": {},
   "outputs": [
    {
     "name": "stdout",
     "output_type": "stream",
     "text": [
      "[21:10:22] WARNING: C:/Users/Administrator/workspace/xgboost-win64_release_1.5.1/src/learner.cc:1115: Starting in XGBoost 1.3.0, the default evaluation metric used with the objective 'binary:logistic' was changed from 'error' to 'logloss'. Explicitly set eval_metric if you'd like to restore the old behavior.\n",
      "[21:10:23] WARNING: C:/Users/Administrator/workspace/xgboost-win64_release_1.5.1/src/learner.cc:1115: Starting in XGBoost 1.3.0, the default evaluation metric used with the objective 'binary:logistic' was changed from 'error' to 'logloss'. Explicitly set eval_metric if you'd like to restore the old behavior.\n",
      "[21:10:23] WARNING: C:/Users/Administrator/workspace/xgboost-win64_release_1.5.1/src/learner.cc:1115: Starting in XGBoost 1.3.0, the default evaluation metric used with the objective 'binary:logistic' was changed from 'error' to 'logloss'. Explicitly set eval_metric if you'd like to restore the old behavior.\n",
      "[21:10:24] WARNING: C:/Users/Administrator/workspace/xgboost-win64_release_1.5.1/src/learner.cc:1115: Starting in XGBoost 1.3.0, the default evaluation metric used with the objective 'binary:logistic' was changed from 'error' to 'logloss'. Explicitly set eval_metric if you'd like to restore the old behavior.\n",
      "[21:10:25] WARNING: C:/Users/Administrator/workspace/xgboost-win64_release_1.5.1/src/learner.cc:1115: Starting in XGBoost 1.3.0, the default evaluation metric used with the objective 'binary:logistic' was changed from 'error' to 'logloss'. Explicitly set eval_metric if you'd like to restore the old behavior.\n",
      "[21:10:26] WARNING: C:/Users/Administrator/workspace/xgboost-win64_release_1.5.1/src/learner.cc:1115: Starting in XGBoost 1.3.0, the default evaluation metric used with the objective 'binary:logistic' was changed from 'error' to 'logloss'. Explicitly set eval_metric if you'd like to restore the old behavior.\n"
     ]
    }
   ],
   "source": [
    "import xgboost as xgb\n",
    "from sklearn.linear_model import LogisticRegression\n",
    "from sklearn.tree import DecisionTreeClassifier\n",
    "from sklearn.neighbors import KNeighborsClassifier\n",
    "from sklearn.svm import SVC\n",
    "from sklearn.ensemble import RandomForestClassifier\n",
    "from sklearn.model_selection import train_test_split\n",
    "from sklearn.metrics import precision_score, recall_score, f1_score\n",
    "from sklearn.metrics import balanced_accuracy_score\n",
    "from sklearn.metrics import accuracy_score\n",
    "from sklearn.metrics import precision_recall_fscore_support\n",
    "from sklearn.metrics import roc_auc_score\n",
    "from sklearn.model_selection import cross_val_score\n",
    "\n",
    "\n",
    "# Crie uma lista com os modelos a serem treinados\n",
    "models = [LogisticRegression(), DecisionTreeClassifier(),\n",
    "          KNeighborsClassifier(), SVC(), RandomForestClassifier(),\n",
    "          xgb.XGBClassifier()]\n",
    "\n",
    "# Crie uma lista para armazenar os resultados de cada modelo\n",
    "results = []\n",
    "\n",
    "# Treine cada modelo e avalie o desempenho\n",
    "for model in models:\n",
    "    # Treine o modelo com os dados de treinamento e avalie o desempenho com cross-validation\n",
    "    scores = cross_val_score(model, X_val, y_val, cv=5)\n",
    "    \n",
    "    # Faça previsões com o conjunto de teste\n",
    "    model.fit(X_val, y_val)\n",
    "    y_pred = model.predict(X_val)\n",
    "    \n",
    "    # Calcule as métricas de avaliação\n",
    "    precision = precision_score(y_val, y_pred)\n",
    "    recall = recall_score(y_val, y_pred)\n",
    "    f1 = f1_score(y_val, y_pred)\n",
    "    ballance_accuracy = balanced_accuracy_score(y_val, y_pred)\n",
    "    accuracy = accuracy_score(y_val, y_pred)\n",
    "    precision_macro, recall_macro, f1_macro, _ = precision_recall_fscore_support(y_val, y_pred, average='macro')\n",
    "    roc_auc = roc_auc_score(y_val, y_pred)\n",
    "    \n",
    "    # Armazene os resultados para cada modelo\n",
    "    results.append({\n",
    "        'Model': model.__class__.__name__,\n",
    "        'Precision': precision,\n",
    "        'Recall': recall,\n",
    "        'F1 Score': f1,\n",
    "        'Balanced Accuracy': ballance_accuracy,\n",
    "        'Accuracy': accuracy,\n",
    "        'Precision Macro': precision_macro,\n",
    "        'Recall Macro': recall_macro,\n",
    "        'F1 Macro': f1_macro,\n",
    "        'ROC AUC': roc_auc\n",
    "    })"
   ]
  },
  {
   "cell_type": "code",
   "execution_count": 23,
   "id": "af416fd3",
   "metadata": {},
   "outputs": [
    {
     "name": "stdout",
     "output_type": "stream",
     "text": [
      "LogisticRegression    \t0.8600\t0.5811\t0.6935\t0.7905\t0.9991\t0.9296\t0.7905\t0.8466\t0.7905\n",
      "DecisionTreeClassifier\t1.0000\t1.0000\t1.0000\t1.0000\t1.0000\t1.0000\t1.0000\t1.0000\t1.0000\n",
      "KNeighborsClassifier  \t0.9123\t0.7027\t0.7939\t0.8513\t0.9994\t0.9559\t0.8513\t0.8968\t0.8513\n",
      "SVC                   \t1.0000\t0.7838\t0.8788\t0.8919\t0.9996\t0.9998\t0.8919\t0.9393\t0.8919\n",
      "RandomForestClassifier\t1.0000\t1.0000\t1.0000\t1.0000\t1.0000\t1.0000\t1.0000\t1.0000\t1.0000\n",
      "XGBClassifier         \t1.0000\t1.0000\t1.0000\t1.0000\t1.0000\t1.0000\t1.0000\t1.0000\t1.0000\n"
     ]
    }
   ],
   "source": [
    "#Pegar a média dos resultados/ intervalo de confiança\n",
    "# Encontre o comprimento máximo do nome do modelo\n",
    "max_model_length = max(len(result['Model']) for result in results)\n",
    "\n",
    "# Imprima os resultados em formato de tabela\n",
    "for result in results:\n",
    "    print(result['Model'].ljust(max_model_length), '{:.4f}'.format(result['Precision']), '{:.4f}'.format(result['Recall']),\n",
    "          '{:.4f}'.format(result['F1 Score']), '{:.4f}'.format(result['Balanced Accuracy']), '{:.4f}'.format(result['Accuracy']),\n",
    "          '{:.4f}'.format(result['Precision Macro']), '{:.4f}'.format(result['Recall Macro']), '{:.4f}'.format(result['F1 Macro']),\n",
    "          '{:.4f}'.format(result['ROC AUC']), sep='\\t')"
   ]
  },
  {
   "cell_type": "code",
   "execution_count": 24,
   "id": "8aca1a78",
   "metadata": {},
   "outputs": [
    {
     "data": {
      "image/png": "[encoded data removed]",
      "text/plain": [
       "<Figure size 1008x360 with 1 Axes>"
      ]
     },
     "metadata": {
      "needs_background": "light"
     },
     "output_type": "display_data"
    }
   ],
   "source": [
    "import matplotlib.pyplot as plt\n",
    "\n",
    "#armazenando as precisões em uma lista\n",
    "precisions = [result['Precision'] for result in results]\n",
    "\n",
    "#criando uma lista com o nome de cada modelo\n",
    "model_names = [result['Model'] for result in results]\n",
    "\n",
    "plt.figure(figsize=(14, 5))\n",
    "plt.bar(model_names, precisions, color = 'green')\n",
    "plt.title('Precision of Models')\n",
    "plt.xlabel('Models')\n",
    "plt.ylabel('Precision')\n",
    "plt.show()"
   ]
  },
  {
   "cell_type": "code",
   "execution_count": 25,
   "id": "0ea44086",
   "metadata": {},
   "outputs": [
    {
     "data": {
      "image/png": "[encoded data removed]",
      "text/plain": [
       "<Figure size 1008x360 with 1 Axes>"
      ]
     },
     "metadata": {
      "needs_background": "light"
     },
     "output_type": "display_data"
    }
   ],
   "source": [
    "import matplotlib.pyplot as plt\n",
    "\n",
    "#armazenando as precisões em uma lista\n",
    "precisions = [result['F1 Score'] for result in results]\n",
    "\n",
    "#criando uma lista com o nome de cada modelo\n",
    "model_names = [result['Model'] for result in results]\n",
    "\n",
    "plt.figure(figsize=(14, 5))\n",
    "plt.bar(model_names, precisions, color = 'green')\n",
    "plt.title('F1 Score of Models')\n",
    "plt.xlabel('Models')\n",
    "plt.ylabel('F1 Score')\n",
    "plt.show()"
   ]
  },
  {
   "cell_type": "code",
   "execution_count": 26,
   "id": "451613b9",
   "metadata": {},
   "outputs": [
    {
     "data": {
      "image/png": "[encoded data removed]",
      "text/plain": [
       "<Figure size 1008x360 with 1 Axes>"
      ]
     },
     "metadata": {
      "needs_background": "light"
     },
     "output_type": "display_data"
    }
   ],
   "source": [
    "import matplotlib.pyplot as plt\n",
    "\n",
    "#armazenando as precisões em uma lista\n",
    "precisions = [result['Accuracy'] for result in results]\n",
    "\n",
    "#criando uma lista com o nome de cada modelo\n",
    "model_names = [result['Model'] for result in results]\n",
    "\n",
    "plt.figure(figsize=(14, 5))\n",
    "plt.bar(model_names, precisions, color = 'green')\n",
    "plt.title('Accuracy of Models')\n",
    "plt.xlabel('Models')\n",
    "plt.ylabel('Accuracy')\n",
    "plt.show()"
   ]
  },
  {
   "cell_type": "markdown",
   "id": "9df797b8",
   "metadata": {},
   "source": [
    "#### EXPORTAÇÃO DOS RESULTADOS"
   ]
  },
  {
   "cell_type": "code",
   "execution_count": 27,
   "id": "4ec7f5e2",
   "metadata": {},
   "outputs": [],
   "source": [
    "import pandas as pd\n",
    "\n",
    "# Crie um DataFrame com os resultados\n",
    "results_df = pd.DataFrame(results)\n",
    "\n",
    "# Salve o DataFrame em um arquivo CSV\n",
    "results_df.to_csv('results_ML_crossValidation.csv', index=False)\n"
   ]
  },
  {
   "cell_type": "markdown",
   "id": "8860b14d",
   "metadata": {},
   "source": [
    "### DEEP LEARNING"
   ]
  },
  {
   "cell_type": "markdown",
   "id": "14b6fa92",
   "metadata": {},
   "source": [
    "##### CNN - Experimentos"
   ]
  },
  {
   "cell_type": "code",
   "execution_count": 28,
   "id": "cbf6d805",
   "metadata": {},
   "outputs": [],
   "source": [
    "from keras.models import Sequential\n",
    "from keras.layers import Conv1D, BatchNormalization, Dropout, MaxPooling1D, Flatten, Dense"
   ]
  },
  {
   "cell_type": "code",
   "execution_count": 29,
   "id": "f5659789",
   "metadata": {},
   "outputs": [],
   "source": [
    "#justificar seleção do modelo \n",
    "def create_classificador():\n",
    "    classificador = Sequential()\n",
    "\n",
    "    classificador.add(Conv1D(32, kernel_size=2, activation='relu', input_shape=(30, 1)))\n",
    "    classificador.add(BatchNormalization())\n",
    "    classificador.add(Dropout(0.5))\n",
    "    classificador.add(Conv1D(32, kernel_size=2, activation='relu', input_shape=(30, 1)))\n",
    "    classificador.add(BatchNormalization())\n",
    "    classificador.add(MaxPooling1D(pool_size = (2)))\n",
    "    classificador.add(Dropout(0.25))\n",
    "    classificador.add(Flatten())\n",
    "\n",
    "    classificador.add(Dense(32, activation='relu'))\n",
    "    classificador.add(Dropout(0.2))\n",
    "   \n",
    "    classificador.add(Dense(1, activation='sigmoid'))\n",
    "\n",
    "    classificador.compile(optimizer='adam', loss='binary_crossentropy', metrics=['accuracy'])\n",
    "\n",
    "    return classificador"
   ]
  },
  {
   "cell_type": "markdown",
   "id": "61af7199",
   "metadata": {},
   "source": [
    "### Precisei fazer essa verificação das dimensões dos dados de entrada comparando-as com as dimensões esperadas pelo modelo na camada de entrada (input_shape)."
   ]
  },
  {
   "cell_type": "code",
   "execution_count": 31,
   "id": "f718d44f",
   "metadata": {},
   "outputs": [],
   "source": [
    "classificador = create_classificador()"
   ]
  },
  {
   "cell_type": "code",
   "execution_count": 32,
   "id": "544b58f3",
   "metadata": {},
   "outputs": [
    {
     "name": "stdout",
     "output_type": "stream",
     "text": [
      "(None, 30, 1)\n",
      "(None, 29, 32)\n"
     ]
    }
   ],
   "source": [
    "input_shape = classificador.layers[0].input_shape\n",
    "print(input_shape)\n",
    "input_shape = classificador.layers[3].input_shape\n",
    "print(input_shape)\n"
   ]
  },
  {
   "cell_type": "code",
   "execution_count": 33,
   "id": "d1f8eaa5",
   "metadata": {},
   "outputs": [
    {
     "name": "stdout",
     "output_type": "stream",
     "text": [
      "(242085, 30)\n",
      "(242085,)\n",
      "(199365, 30)\n",
      "(199365,)\n",
      "(42722, 30)\n",
      "(42722,)\n"
     ]
    }
   ],
   "source": [
    "print(X_train.shape)\n",
    "print(y_train.shape)\n",
    "print(X_test.shape)\n",
    "print(y_test.shape)\n",
    "print(X_val.shape)\n",
    "print(y_val.shape)\n"
   ]
  },
  {
   "cell_type": "code",
   "execution_count": 34,
   "id": "28d903e9",
   "metadata": {},
   "outputs": [
    {
     "name": "stdout",
     "output_type": "stream",
     "text": [
      "(242085, 30)\n",
      "(242085,)\n",
      "(199365, 30)\n",
      "(199365,)\n"
     ]
    },
    {
     "ename": "NameError",
     "evalue": "name 'X_ajust' is not defined",
     "output_type": "error",
     "traceback": [
      "\u001b[1;31m---------------------------------------------------------------------------\u001b[0m",
      "\u001b[1;31mNameError\u001b[0m                                 Traceback (most recent call last)",
      "\u001b[1;32m<ipython-input-34-d2a3f5f9bd63>\u001b[0m in \u001b[0;36m<module>\u001b[1;34m\u001b[0m\n\u001b[0;32m      3\u001b[0m \u001b[0mprint\u001b[0m\u001b[1;33m(\u001b[0m\u001b[0mX_test\u001b[0m\u001b[1;33m.\u001b[0m\u001b[0mshape\u001b[0m\u001b[1;33m)\u001b[0m\u001b[1;33m\u001b[0m\u001b[1;33m\u001b[0m\u001b[0m\n\u001b[0;32m      4\u001b[0m \u001b[0mprint\u001b[0m\u001b[1;33m(\u001b[0m\u001b[0my_test\u001b[0m\u001b[1;33m.\u001b[0m\u001b[0mshape\u001b[0m\u001b[1;33m)\u001b[0m\u001b[1;33m\u001b[0m\u001b[1;33m\u001b[0m\u001b[0m\n\u001b[1;32m----> 5\u001b[1;33m \u001b[0mprint\u001b[0m\u001b[1;33m(\u001b[0m\u001b[0mX_ajust\u001b[0m\u001b[1;33m.\u001b[0m\u001b[0mshape\u001b[0m\u001b[1;33m)\u001b[0m\u001b[1;33m\u001b[0m\u001b[1;33m\u001b[0m\u001b[0m\n\u001b[0m\u001b[0;32m      6\u001b[0m \u001b[0mprint\u001b[0m\u001b[1;33m(\u001b[0m\u001b[0my_ajust\u001b[0m\u001b[1;33m.\u001b[0m\u001b[0mshape\u001b[0m\u001b[1;33m)\u001b[0m\u001b[1;33m\u001b[0m\u001b[1;33m\u001b[0m\u001b[0m\n\u001b[0;32m      7\u001b[0m \u001b[0mprint\u001b[0m\u001b[1;33m(\u001b[0m\u001b[0mX_val\u001b[0m\u001b[1;33m.\u001b[0m\u001b[0mshape\u001b[0m\u001b[1;33m)\u001b[0m\u001b[1;33m\u001b[0m\u001b[1;33m\u001b[0m\u001b[0m\n",
      "\u001b[1;31mNameError\u001b[0m: name 'X_ajust' is not defined"
     ]
    }
   ],
   "source": [
    "print(X_train.shape)\n",
    "print(y_train.shape)\n",
    "print(X_test.shape)\n",
    "print(y_test.shape)\n",
    "print(X_ajust.shape)\n",
    "print(y_ajust.shape)\n",
    "print(X_val.shape)\n",
    "print(y_val.shape)\n"
   ]
  },
  {
   "cell_type": "code",
   "execution_count": 35,
   "id": "3e6c6123",
   "metadata": {},
   "outputs": [
    {
     "ename": "NameError",
     "evalue": "name 'X_ajust' is not defined",
     "output_type": "error",
     "traceback": [
      "\u001b[1;31m---------------------------------------------------------------------------\u001b[0m",
      "\u001b[1;31mNameError\u001b[0m                                 Traceback (most recent call last)",
      "\u001b[1;32m<ipython-input-35-997ebf67a2b5>\u001b[0m in \u001b[0;36m<module>\u001b[1;34m\u001b[0m\n\u001b[0;32m      4\u001b[0m \u001b[1;31m#X_train y_train\u001b[0m\u001b[1;33m\u001b[0m\u001b[1;33m\u001b[0m\u001b[1;33m\u001b[0m\u001b[0m\n\u001b[0;32m      5\u001b[0m \u001b[1;31m#Tentei fazer o experimento rodar no conjunto de treinamento de validação mas não deu muito certo.\u001b[0m\u001b[1;33m\u001b[0m\u001b[1;33m\u001b[0m\u001b[1;33m\u001b[0m\u001b[0m\n\u001b[1;32m----> 6\u001b[1;33m \u001b[0mhistory\u001b[0m \u001b[1;33m=\u001b[0m \u001b[0mclassificador\u001b[0m\u001b[1;33m.\u001b[0m\u001b[0mfit\u001b[0m\u001b[1;33m(\u001b[0m\u001b[0mX_ajust\u001b[0m\u001b[1;33m,\u001b[0m \u001b[0my_ajust\u001b[0m\u001b[1;33m,\u001b[0m \u001b[0mvalidation_data\u001b[0m\u001b[1;33m=\u001b[0m\u001b[1;33m(\u001b[0m\u001b[0mX_val\u001b[0m\u001b[1;33m,\u001b[0m \u001b[0my_val\u001b[0m\u001b[1;33m)\u001b[0m\u001b[1;33m,\u001b[0m \u001b[0mepochs\u001b[0m\u001b[1;33m=\u001b[0m\u001b[1;36m14\u001b[0m\u001b[1;33m,\u001b[0m \u001b[0mbatch_size\u001b[0m \u001b[1;33m=\u001b[0m \u001b[1;36m256\u001b[0m\u001b[1;33m)\u001b[0m\u001b[1;33m\u001b[0m\u001b[1;33m\u001b[0m\u001b[0m\n\u001b[0m",
      "\u001b[1;31mNameError\u001b[0m: name 'X_ajust' is not defined"
     ]
    }
   ],
   "source": [
    "#repetir o experimento n vezes\n",
    "#early stopping\n",
    "#classificador = create_classificador()\n",
    "#X_train y_train \n",
    "#Tentei fazer o experimento rodar no conjunto de treinamento de validação mas não deu muito certo.\n",
    "history = classificador.fit(X_ajust, y_ajust, validation_data=(X_val, y_val), epochs=14, batch_size = 256)"
   ]
  },
  {
   "cell_type": "code",
   "execution_count": null,
   "id": "dd3b0550",
   "metadata": {},
   "outputs": [],
   "source": [
    "resultado = classificador.evaluate(X_test, y_test)\n",
    "resultado"
   ]
  },
  {
   "cell_type": "code",
   "execution_count": null,
   "id": "cd3dd74c",
   "metadata": {},
   "outputs": [],
   "source": [
    "#Plots da acurácia do modelo\n",
    "plt.plot(history.history['accuracy'],label = 'treino')\n",
    "plt.plot(history.history['val_accuracy'],label = 'validação')\n",
    "plt.axhline(y=resultado[1], color='r', linestyle='--',label = 'teste')\n",
    "plt.title('Acurácia durante as épocas')\n",
    "plt.ylabel('Acurácia')\n",
    "plt.xlabel('Épocas')\n",
    "plt.ylim((0.0,2))\n",
    "plt.legend(loc='upper left')\n",
    "plt.savefig('graficoteste25.png', dpi=300)"
   ]
  },
  {
   "cell_type": "code",
   "execution_count": null,
   "id": "c78f0a10",
   "metadata": {},
   "outputs": [],
   "source": [
    "#Plots do valor de perda do modelo\n",
    "plt.plot(history.history['loss'])\n",
    "plt.plot(history.history['val_loss'])\n",
    "plt.title('Perda do modelo')\n",
    "plt.ylabel('Perda')\n",
    "plt.xlabel('Épocas')\n",
    "plt.legend(['treino', 'teste'], loc='upper left')\n",
    "plt.savefig('graficoloss25.png',dpi=300)"
   ]
  },
  {
   "cell_type": "code",
   "execution_count": null,
   "id": "0c5025b5",
   "metadata": {},
   "outputs": [],
   "source": [
    "#probabilidades de predição de cada classse (valores)\n",
    "y_predicted_probs = classificador.predict(X_test)\n",
    "y_predicted_probs"
   ]
  },
  {
   "cell_type": "code",
   "execution_count": null,
   "id": "e6fc3591",
   "metadata": {},
   "outputs": [],
   "source": [
    "#probabilidades de cada classse (labels) analisar a linha de classificação\n",
    "y_predicted = (classificador.predict(X_test) > 0.5).astype(\"int32\").ravel()\n",
    "y_predicted"
   ]
  },
  {
   "cell_type": "code",
   "execution_count": null,
   "id": "6a6be9a0",
   "metadata": {},
   "outputs": [],
   "source": [
    "from sklearn.metrics import confusion_matrix"
   ]
  },
  {
   "cell_type": "code",
   "execution_count": null,
   "id": "cf669935",
   "metadata": {},
   "outputs": [],
   "source": [
    "#matrix de confusão(conferir a ordem)\n",
    "tp, fp, fn, tn = confusion_matrix(y_test, y_predicted).ravel()"
   ]
  },
  {
   "cell_type": "code",
   "execution_count": null,
   "id": "3b075fcd",
   "metadata": {},
   "outputs": [],
   "source": [
    "#acuracia\n",
    "acc = accuracy_score(y_test, y_predicted)\n",
    "acc"
   ]
  },
  {
   "cell_type": "code",
   "execution_count": null,
   "id": "def885be",
   "metadata": {},
   "outputs": [],
   "source": [
    "# calculo da acuracia ( verificacao)\n",
    "(tp+ tn)/ (tp + tn + fp + fn) "
   ]
  },
  {
   "cell_type": "code",
   "execution_count": null,
   "id": "10e67c45",
   "metadata": {},
   "outputs": [],
   "source": [
    "#roc auc \n",
    "auc = roc_auc_score(y_test, y_predicted_probs)\n",
    "auc"
   ]
  },
  {
   "cell_type": "code",
   "execution_count": null,
   "id": "a4cebaca",
   "metadata": {},
   "outputs": [],
   "source": [
    "#fpr ( false positive rate) ou taxa de falsos alarmes\n",
    "(fp / (fp+tn))"
   ]
  },
  {
   "cell_type": "code",
   "execution_count": null,
   "id": "a752da78",
   "metadata": {},
   "outputs": [],
   "source": [
    "#precisao\n",
    "(tp / (tp + fp))"
   ]
  },
  {
   "cell_type": "code",
   "execution_count": null,
   "id": "ddc65f05",
   "metadata": {},
   "outputs": [],
   "source": [
    "#calculo do recall\n",
    "(tp / (tp+fn))"
   ]
  },
  {
   "cell_type": "code",
   "execution_count": null,
   "id": "28596e38",
   "metadata": {},
   "outputs": [],
   "source": [
    "#import seaborn as sns\n",
    "#sns.heatmap(cm, annot = True)\n"
   ]
  },
  {
   "cell_type": "markdown",
   "id": "6fb3cd48",
   "metadata": {},
   "source": [
    "### Quis mostrar as métricas que são calculadas a partir da matriz de confusão acima\n",
    "### Agora irei mostrar os resultados de outra forma"
   ]
  },
  {
   "cell_type": "code",
   "execution_count": null,
   "id": "a38de9de",
   "metadata": {},
   "outputs": [],
   "source": [
    "# Crie uma lista para armazenar os resultados de cada modelo\n",
    "results = []"
   ]
  },
  {
   "cell_type": "code",
   "execution_count": null,
   "id": "ecf23e1f",
   "metadata": {},
   "outputs": [],
   "source": [
    "# Calcule as métricas de avaliação\n",
    "precision = precision_score(y_test, y_predicted)\n",
    "recall = recall_score(y_test, y_predicted)\n",
    "f1 = f1_score(y_test, y_predicted)\n",
    "ballance_accuracy = balanced_accuracy_score(y_test, y_predicted)\n",
    "accuracy = accuracy_score(y_test, y_predicted)\n",
    "precision_macro, recall_macro, f1_macro, _ = precision_recall_fscore_support(y_test, y_predicted, average='macro')\n",
    "roc_auc = roc_auc_score(y_test, y_predicted)\n"
   ]
  },
  {
   "cell_type": "code",
   "execution_count": null,
   "id": "1b987ae5",
   "metadata": {},
   "outputs": [],
   "source": [
    "print('Precision:\\n', precision, sep='\\t')\n",
    "print('Recall:\\n', recall, sep='\\t')\n",
    "print('F1 Score:\\n', f1,sep='\\t')\n",
    "print('Balanced Accuracy:\\n', ballance_accuracy,sep='\\t')\n",
    "print('Precision Macro:\\n', precision_macro, sep='\\t')\n",
    "print('Accuracy:\\n', accuracy,sep='\\t')\n",
    "print('Precision Macro:\\n', precision_macro, sep='\\t')\n",
    "print('Recall Macro:\\n', recall_macro, sep='\\t')\n",
    "print('F1 Macro:\\n', f1_macro, sep='\\t')\n",
    "print('ROC AUC:\\n', roc_auc,sep='\\t')"
   ]
  },
  {
   "cell_type": "code",
   "execution_count": null,
   "id": "757f4e91",
   "metadata": {},
   "outputs": [],
   "source": [
    "metrics = {\n",
    "    'Precision': precision,\n",
    "    'Recall': recall,\n",
    "    'F1-score': f1,\n",
    "    'Balanced Accuracy': ballance_accuracy,\n",
    "    'Accuracy': accuracy,\n",
    "    'Macro Precision': precision_macro,\n",
    "    'Macro Recall': recall_macro,\n",
    "    'Macro F1-score': f1_macro,\n",
    "    'ROC AUC': roc_auc\n",
    "}\n",
    "\n",
    "metrics_df = pd.DataFrame.from_dict(metrics, orient='index', columns=['Value'])\n",
    "print(metrics_df)\n"
   ]
  },
  {
   "cell_type": "code",
   "execution_count": null,
   "id": "f1eaf0b5",
   "metadata": {},
   "outputs": [],
   "source": [
    "# Salve o DataFrame em um arquivo CSV\n",
    "metrics_df.to_csv('results_tentativas_CNN.csv', index=False)"
   ]
  },
  {
   "cell_type": "markdown",
   "id": "089261c5",
   "metadata": {},
   "source": [
    "### Cnn + CrossValidation"
   ]
  },
  {
   "cell_type": "code",
   "execution_count": null,
   "id": "2c34c509",
   "metadata": {},
   "outputs": [],
   "source": [
    "import numpy as np\n",
    "import pandas as pd\n",
    "from sklearn.model_selection import StratifiedShuffleSplit\n",
    "\n",
    "import tensorflow as tf\n",
    "from tensorflow import keras\n",
    "from keras.models import Sequential\n",
    "from tensorflow.keras.layers import Dense, Dropout, Conv1D, MaxPooling1D, GlobalAveragePooling1D\n",
    "from sklearn.model_selection import KFold"
   ]
  },
  {
   "cell_type": "code",
   "execution_count": null,
   "id": "04ed7a2a",
   "metadata": {},
   "outputs": [],
   "source": [
    "from keras.models import Sequential\n",
    "from keras.layers import Conv1D, BatchNormalization, Dropout, MaxPooling1D, Flatten, Dense\n",
    "from sklearn.model_selection import KFold"
   ]
  },
  {
   "cell_type": "code",
   "execution_count": null,
   "id": "bb5ce73e",
   "metadata": {},
   "outputs": [],
   "source": [
    "def kfold_validation(X, y, k):\n",
    "    kf = KFold(n_splits=k)\n",
    "    scores = []\n",
    "    for train_index, val_index in kf.split(X):\n",
    "        X_train, X_val = X[train_index], X[val_index]\n",
    "        y_train, y_val = y[train_index], y[val_index]\n",
    "        \n",
    "        classificador = create_classificador()\n",
    "        classificador.fit(X_train, y_train, epochs=14, batch_size=256)\n",
    "        score = classificador.evaluate(X_val, y_val)\n",
    "        scores.append(score[1])\n",
    "    return np.mean(scores)"
   ]
  },
  {
   "cell_type": "code",
   "execution_count": null,
   "id": "3e3197c3",
   "metadata": {
    "scrolled": true
   },
   "outputs": [],
   "source": [
    "print(X_train.shape)\n",
    "print(y_train.shape)\n",
    "print(X_test.shape)\n",
    "print(y_test.shape)\n",
    "print(X_val.shape)\n",
    "print(y_val.shape)"
   ]
  },
  {
   "cell_type": "code",
   "execution_count": null,
   "id": "4630d52c",
   "metadata": {},
   "outputs": [],
   "source": []
  },
  {
   "cell_type": "code",
   "execution_count": null,
   "id": "5aef0b37",
   "metadata": {},
   "outputs": [],
   "source": [
    "X_train = X_train.reshape(242085, 30, 1)\n",
    "y_train = y_train.reshape(242085,1)\n",
    "X_test = X_test.reshape(56962, 30, 1)\n",
    "y_test = y_test.reshape(56962, 1)\n",
    "X_ajust = X_ajust.reshape(205060, 30, 1)\n",
    "y_ajust = y_ajust.to_numpy().reshape(205060, 1)\n",
    "X_val = X_val.to_numpy().reshape(22785, 30, 1)\n",
    "y_val = y_val.reshape(22785, 1)\n"
   ]
  },
  {
   "cell_type": "code",
   "execution_count": null,
   "id": "a80f9883",
   "metadata": {},
   "outputs": [],
   "source": [
    "print(X_train.shape)\n",
    "print(y_train.shape)\n",
    "print(X_test.shape)\n",
    "print(y_test.shape)\n",
    "print(X_ajust.shape)\n",
    "print(y_ajust.shape)\n",
    "print(X_val.shape)\n",
    "print(y_val.shape)\n"
   ]
  },
  {
   "cell_type": "code",
   "execution_count": null,
   "id": "98f1ba64",
   "metadata": {},
   "outputs": [],
   "source": [
    "# Dividir os dados em features e labels\n",
    "X = fraud_detection.drop(\"Class\", axis=1)\n",
    "y = fraud_detection[\"Class\"]\n",
    "\n",
    "# Padronizar os dados\n",
    "scaler = StandardScaler()\n",
    "X = scaler.fit_transform(X)\n",
    "\n",
    "X_train = X_train.reshape((X_train.shape[0], X_train.shape[1], 1))\n",
    "X_val = X_val.reshape((X_val.shape[0], X_val.shape[1], 1))\n"
   ]
  },
  {
   "cell_type": "code",
   "execution_count": null,
   "id": "bd2678c6",
   "metadata": {},
   "outputs": [],
   "source": [
    "#Executar a validação k-fold com 10 folds\n",
    "result = kfold_validation(X, y, 10)\n",
    "print(\"Acurácia média: \", result)"
   ]
  },
  {
   "cell_type": "code",
   "execution_count": null,
   "id": "443f33b7",
   "metadata": {},
   "outputs": [],
   "source": [
    "#justificar seleção do modelo \n",
    "def create_classificador_CrossValidation():\n",
    "    classificador_cnn = Sequential()\n",
    "\n",
    "    classificador_cnn.add(Conv1D(filters=32, kernel_size=2, activation='relu', input_shape=(X_train.shape[1], 1)))\n",
    "    classificador_cnn.add(MaxPooling1D(pool_size=2))\n",
    "    classificador_cnn.add(Conv1D(filters=64, kernel_size=2, activation='relu'))\n",
    "    classificador_cnn.add(MaxPooling1D(pool_size=2))\n",
    "    classificador_cnn.add(Conv1D(filters=128, kernel_size=2, activation='relu'))\n",
    "    classificador_cnn.add(GlobalAveragePooling1D())\n",
    "    classificador_cnn.add(MaxPooling1D(pool_size = (2)))\n",
    "    classificador_cnn.add(Dropout(0.5))\n",
    "\n",
    "   \n",
    "    classificador_cnn.add(Dense(1, activation='sigmoid'))\n",
    "\n",
    "    classificador_cnn.compile(optimizer='adam', loss='binary_crossentropy', metrics=['accuracy'])\n",
    "\n",
    "    return classificador_cnn"
   ]
  },
  {
   "cell_type": "code",
   "execution_count": null,
   "id": "b1a665ee",
   "metadata": {},
   "outputs": [],
   "source": [
    "\n",
    "# Train the model\n",
    "X_train = np.expand_dims(X_train, axis=-1)\n",
    "X_test = np.expand_dims(X_test, axis=-1)\n",
    "history = model_cnn.fit(X_train, y_train, batch_size=64, epochs=20, validation_data=(X_test, y_test))\n",
    "\n",
    "# Evaluate the model\n",
    "score = model_cnn.evaluate(X_test, y_test, verbose=0)\n",
    "print(\"Test loss:\", score[0])\n",
    "print(\"Test accuracy:\", score[1])\n",
    "\n",
    "# Define the BaseLine model\n",
    "model_baseline = keras.Sequential([\n",
    "    Dense(128, activation='relu', input_shape=(X_train.shape[1],)),\n",
    "    Dropout(0.5),\n",
    "    Dense(64, activation='relu'),\n",
    "    Dropout(0.5),\n",
    "    Dense(32, activation='relu'),\n",
    "    Dropout(0.5),\n",
    "    Dense(1, activation='sigmoid')\n",
    "])\n",
    "\n",
    "# Compile the model\n",
    "model_baseline.compile(optimizer='adam', loss='binary_crossentropy', metrics=['accuracy'])\n",
    "\n",
    "# Train the model\n",
    "history = model_baseline.fit(X_train, y_train, batch_size=64, epochs=20, validation_\n"
   ]
  },
  {
   "cell_type": "code",
   "execution_count": null,
   "id": "906f35a9",
   "metadata": {},
   "outputs": [],
   "source": [
    "#repetir o experimento n vezes\n",
    "#early stopping\n",
    "classificador = create_classificador_CrossValidation()\n",
    "#X_train y_train \n",
    "#Tentei fazer o experimento rodar no conjunto de treinamento de validação mas não deu muito certo.\n",
    "history = classificador.fit(X_train, y_train, validation_data=(X_test, y_test), epochs=20, batch_size = 64)"
   ]
  },
  {
   "cell_type": "code",
   "execution_count": null,
   "id": "8ded9ed8",
   "metadata": {},
   "outputs": [],
   "source": [
    "resultado = classificador.evaluate(X_test, y_test)\n",
    "resultado"
   ]
  },
  {
   "cell_type": "code",
   "execution_count": null,
   "id": "c00710fa",
   "metadata": {},
   "outputs": [],
   "source": []
  },
  {
   "cell_type": "code",
   "execution_count": null,
   "id": "933df167",
   "metadata": {},
   "outputs": [],
   "source": []
  },
  {
   "cell_type": "code",
   "execution_count": null,
   "id": "07d11ea8",
   "metadata": {},
   "outputs": [],
   "source": []
  },
  {
   "cell_type": "code",
   "execution_count": null,
   "id": "bb6ab49e",
   "metadata": {},
   "outputs": [],
   "source": [
    "\n",
    "# Train the model\n",
    "X_train = np.expand_dims(X_train, axis=-1)\n",
    "X_test = np.expand_dims(X_test, axis=-1)\n",
    "history = model_cnn.fit(X_train, y_train, batch_size=64, epochs=20, validation_data=(X_test, y_test))\n",
    "\n",
    "# Evaluate the model\n",
    "score = model_cnn.evaluate(X_test, y_test, verbose=0)\n",
    "print(\"Test loss:\", score[0])\n",
    "print(\"Test accuracy:\", score[1])\n",
    "\n",
    "# Define the BaseLine model\n",
    "model_baseline = keras.Sequential([\n",
    "    Dense(128, activation='relu', input_shape=(X_train.shape[1],)),\n",
    "    Dropout(0.5),\n",
    "    Dense(64, activation='relu'),\n",
    "    Dropout(0.5),\n",
    "    Dense(32, activation='relu'),\n",
    "    Dropout(0.5),\n",
    "    Dense(1, activation='sigmoid')\n",
    "])\n",
    "\n",
    "# Compile the model\n",
    "model_baseline.compile(optimizer='adam', loss='binary_crossentropy', metrics=['accuracy'])\n",
    "\n",
    "# Train the model\n",
    "history = model_baseline.fit(X_train, y_train, batch_size=64, epochs=20, validation_\n"
   ]
  },
  {
   "cell_type": "code",
   "execution_count": null,
   "id": "22692c2a",
   "metadata": {},
   "outputs": [],
   "source": []
  },
  {
   "cell_type": "code",
   "execution_count": null,
   "id": "6efc5dda",
   "metadata": {},
   "outputs": [],
   "source": []
  }
 ],
 "metadata": {
  "kernelspec": {
   "display_name": "Python 3",
   "language": "python",
   "name": "python3"
  },
  "language_info": {
   "codemirror_mode": {
    "name": "ipython",
    "version": 3
   },
   "file_extension": ".py",
   "mimetype": "text/x-python",
   "name": "python",
   "nbconvert_exporter": "python",
   "pygments_lexer": "ipython3",
   "version": "3.6.13"
  }
 },
 "nbformat": 4,
 "nbformat_minor": 5
}
